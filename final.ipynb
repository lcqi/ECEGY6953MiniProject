{
 "cells": [
  {
   "cell_type": "code",
   "execution_count": 1,
   "id": "68f23bbd-0bfc-44b9-9318-b1c985f28728",
   "metadata": {},
   "outputs": [
    {
     "name": "stdout",
     "output_type": "stream",
     "text": [
      "Requirement already satisfied: torch in /home/studio-lab-user/.conda/envs/default/lib/python3.9/site-packages (1.13.0)\n",
      "Requirement already satisfied: nvidia-cuda-nvrtc-cu11==11.7.99 in /home/studio-lab-user/.conda/envs/default/lib/python3.9/site-packages (from torch) (11.7.99)\n",
      "Requirement already satisfied: typing-extensions in /home/studio-lab-user/.conda/envs/default/lib/python3.9/site-packages (from torch) (4.4.0)\n",
      "Requirement already satisfied: nvidia-cublas-cu11==11.10.3.66 in /home/studio-lab-user/.conda/envs/default/lib/python3.9/site-packages (from torch) (11.10.3.66)\n",
      "Requirement already satisfied: nvidia-cuda-runtime-cu11==11.7.99 in /home/studio-lab-user/.conda/envs/default/lib/python3.9/site-packages (from torch) (11.7.99)\n",
      "Requirement already satisfied: nvidia-cudnn-cu11==8.5.0.96 in /home/studio-lab-user/.conda/envs/default/lib/python3.9/site-packages (from torch) (8.5.0.96)\n",
      "Requirement already satisfied: setuptools in /home/studio-lab-user/.conda/envs/default/lib/python3.9/site-packages (from nvidia-cublas-cu11==11.10.3.66->torch) (65.5.0)\n",
      "Requirement already satisfied: wheel in /home/studio-lab-user/.conda/envs/default/lib/python3.9/site-packages (from nvidia-cublas-cu11==11.10.3.66->torch) (0.37.1)\n",
      "Note: you may need to restart the kernel to use updated packages.\n",
      "Requirement already satisfied: torchvision in /home/studio-lab-user/.conda/envs/default/lib/python3.9/site-packages (0.14.0)\n",
      "Requirement already satisfied: numpy in /home/studio-lab-user/.conda/envs/default/lib/python3.9/site-packages (from torchvision) (1.23.4)\n",
      "Requirement already satisfied: requests in /home/studio-lab-user/.conda/envs/default/lib/python3.9/site-packages (from torchvision) (2.28.1)\n",
      "Requirement already satisfied: typing-extensions in /home/studio-lab-user/.conda/envs/default/lib/python3.9/site-packages (from torchvision) (4.4.0)\n",
      "Requirement already satisfied: torch==1.13.0 in /home/studio-lab-user/.conda/envs/default/lib/python3.9/site-packages (from torchvision) (1.13.0)\n",
      "Requirement already satisfied: pillow!=8.3.*,>=5.3.0 in /home/studio-lab-user/.conda/envs/default/lib/python3.9/site-packages (from torchvision) (9.3.0)\n",
      "Requirement already satisfied: nvidia-cudnn-cu11==8.5.0.96 in /home/studio-lab-user/.conda/envs/default/lib/python3.9/site-packages (from torch==1.13.0->torchvision) (8.5.0.96)\n",
      "Requirement already satisfied: nvidia-cublas-cu11==11.10.3.66 in /home/studio-lab-user/.conda/envs/default/lib/python3.9/site-packages (from torch==1.13.0->torchvision) (11.10.3.66)\n",
      "Requirement already satisfied: nvidia-cuda-nvrtc-cu11==11.7.99 in /home/studio-lab-user/.conda/envs/default/lib/python3.9/site-packages (from torch==1.13.0->torchvision) (11.7.99)\n",
      "Requirement already satisfied: nvidia-cuda-runtime-cu11==11.7.99 in /home/studio-lab-user/.conda/envs/default/lib/python3.9/site-packages (from torch==1.13.0->torchvision) (11.7.99)\n",
      "Requirement already satisfied: setuptools in /home/studio-lab-user/.conda/envs/default/lib/python3.9/site-packages (from nvidia-cublas-cu11==11.10.3.66->torch==1.13.0->torchvision) (65.5.0)\n",
      "Requirement already satisfied: wheel in /home/studio-lab-user/.conda/envs/default/lib/python3.9/site-packages (from nvidia-cublas-cu11==11.10.3.66->torch==1.13.0->torchvision) (0.37.1)\n",
      "Requirement already satisfied: urllib3<1.27,>=1.21.1 in /home/studio-lab-user/.conda/envs/default/lib/python3.9/site-packages (from requests->torchvision) (1.26.12)\n",
      "Requirement already satisfied: certifi>=2017.4.17 in /home/studio-lab-user/.conda/envs/default/lib/python3.9/site-packages (from requests->torchvision) (2022.9.24)\n",
      "Requirement already satisfied: charset-normalizer<3,>=2 in /home/studio-lab-user/.conda/envs/default/lib/python3.9/site-packages (from requests->torchvision) (2.1.1)\n",
      "Requirement already satisfied: idna<4,>=2.5 in /home/studio-lab-user/.conda/envs/default/lib/python3.9/site-packages (from requests->torchvision) (3.4)\n",
      "Note: you may need to restart the kernel to use updated packages.\n",
      "Requirement already satisfied: torchsummary in /home/studio-lab-user/.conda/envs/default/lib/python3.9/site-packages (1.5.1)\n",
      "Note: you may need to restart the kernel to use updated packages.\n"
     ]
    }
   ],
   "source": [
    "%pip install torch\n",
    "%pip install torchvision\n",
    "%pip install torchsummary"
   ]
  },
  {
   "cell_type": "code",
   "execution_count": 2,
   "id": "82f67203-17a8-4ce2-a0c3-186d9d7baf84",
   "metadata": {},
   "outputs": [],
   "source": [
    "import torch\n",
    "import torch.nn as nn\n",
    "import torchvision\n",
    "import torchvision.transforms as transforms\n",
    "from torchsummary import summary"
   ]
  },
  {
   "cell_type": "code",
   "execution_count": 3,
   "id": "c845b04d-0f0a-42b2-8a66-29371aeee9ed",
   "metadata": {},
   "outputs": [],
   "source": [
    "#choose device\n",
    "if torch.cuda.is_available():\n",
    "    device=torch.device('cuda')\n",
    "else:\n",
    "    device=torch.device('cpu')"
   ]
  },
  {
   "cell_type": "markdown",
   "id": "4d7be798-da6d-4aae-98a3-e29555b9042a",
   "metadata": {},
   "source": [
    "1. Epoch, batchsize, learning rate都能调整"
   ]
  },
  {
   "cell_type": "code",
   "execution_count": 4,
   "id": "3e0eb9cb-260e-44e2-8f33-6e1fd46a565f",
   "metadata": {},
   "outputs": [],
   "source": [
    "epochs=50\n",
    "#batch_size=64\n",
    "batch_sizes=[32,64,128,256]\n",
    "learning_rate=0.01"
   ]
  },
  {
   "cell_type": "markdown",
   "id": "f7d3f139-8381-4455-aeec-db805f9157db",
   "metadata": {},
   "source": [
    "2. transform的方法也能调整"
   ]
  },
  {
   "cell_type": "code",
   "execution_count": 5,
   "id": "11a6ec30-adf5-49ad-813b-b61efd8b5f8e",
   "metadata": {},
   "outputs": [],
   "source": [
    "#define transform\n",
    "train_transform=transforms.Compose(\n",
    "    [transforms.Pad(4),\n",
    "     transforms.RandomCrop(32),\n",
    "     transforms.RandomHorizontalFlip(),\n",
    "     transforms.ToTensor(),\n",
    "     transforms.Normalize(mean=[0.485,0.456,0.406],\n",
    "                          std=[0.229,0.224,0.225])])\n",
    "valid_transform=transforms.Compose(\n",
    "    [\n",
    "     transforms.ToTensor(),\n",
    "     transforms.Normalize(mean=[0.485,0.456,0.406],\n",
    "                          std=[0.229,0.224,0.225])])"
   ]
  },
  {
   "cell_type": "code",
   "execution_count": 6,
   "id": "a73f5b31-d805-4c33-9bb3-c7d42b829630",
   "metadata": {},
   "outputs": [
    {
     "name": "stdout",
     "output_type": "stream",
     "text": [
      "Files already downloaded and verified\n",
      "Files already downloaded and verified\n"
     ]
    }
   ],
   "source": [
    "# download cifar-10 dataset\n",
    "train_dataset=torchvision.datasets.CIFAR10(root='../data/',\n",
    "                                           train=True,\n",
    "                                           transform=train_transform,\n",
    "                                           download=True)\n",
    "test_dataset=torchvision.datasets.CIFAR10(root='../data/',\n",
    "                                           train=False,\n",
    "                                           transform=valid_transform,\n",
    "                                           download=True)"
   ]
  },
  {
   "cell_type": "code",
   "execution_count": 7,
   "id": "457ee22c-b7d0-408a-a867-0477f1fcb22a",
   "metadata": {},
   "outputs": [],
   "source": [
    "# define data loader\n",
    "#train_loader=torch.utils.data.DataLoader(train_dataset,batch_size=batch_size,shuffle=True)\n",
    "#test_loader=torch.utils.data.DataLoader(test_dataset,batch_size=batch_size,shuffle=False)"
   ]
  },
  {
   "cell_type": "code",
   "execution_count": 7,
   "id": "c1daf0aa-1c0a-4c88-a130-818f9ef34e8e",
   "metadata": {},
   "outputs": [],
   "source": [
    "# residual block\n",
    "class ResidualBlock(nn.Module):\n",
    "    def __init__(self, in_channels, out_channels, stride=1):\n",
    "        super(ResidualBlock, self).__init__()\n",
    "        self.conv1=nn.Conv2d(in_channels=in_channels,out_channels=out_channels,stride=stride,kernel_size=3,padding=1,bias=False)\n",
    "        self.bn1=nn.BatchNorm2d(out_channels)\n",
    "        self.relu=nn.ReLU(inplace=True)\n",
    "        self.conv2=nn.Conv2d(in_channels=out_channels,out_channels=out_channels,stride=1,kernel_size=3,padding=1,bias=False)\n",
    "        self.bn2=nn.BatchNorm2d(out_channels)\n",
    "        self.downsample=nn.Sequential()\n",
    "        if (stride!=1) or(in_channels!=out_channels):\n",
    "            self.downsample=nn.Sequential(\n",
    "                nn.Conv2d(in_channels=in_channels,out_channels=out_channels,stride=stride,kernel_size=1,bias=False),\n",
    "                nn.BatchNorm2d(out_channels))\n",
    "    def forward(self,x):\n",
    "        out=self.conv1(x)\n",
    "        out=self.bn1(out)\n",
    "        out=self.relu(out)\n",
    "        out=self.conv2(out)\n",
    "        out=self.bn2(out)\n",
    "        out+=self.downsample(x)\n",
    "        out=self.relu(out)\n",
    "        return out\n",
    "        "
   ]
  },
  {
   "cell_type": "code",
   "execution_count": 15,
   "id": "b66bf687-fa59-4630-befb-ed3dd7a82171",
   "metadata": {},
   "outputs": [],
   "source": [
    "# 4-layer ResNet\n",
    "class ResNet(nn.Module):\n",
    "    def __init__(self,block,layers,num_classes=10):\n",
    "        super(ResNet, self).__init__()\n",
    "        self.in_channels=80                                                  # 64 can be modified\n",
    "        self.conv=nn.Conv2d(in_channels=3,out_channels=80,stride=1,kernel_size=3,padding=1,bias=False)\n",
    "        self.bn=nn.BatchNorm2d(80)\n",
    "        self.relu=nn.ReLU(inplace=True)\n",
    "        self.layer1=self.make_layer(block, 80,layers[0], stride=1)        # 64 can be modified\n",
    "        self.layer2=self.make_layer(block, 160, layers[1], stride=2)      # 128 can be modified\n",
    "        self.layer3=self.make_layer(block, 320, layers[2], stride=2)      # 256 can be modified\n",
    "        #self.layer4=self.make_layer(block, 512, layers[3], stride=2)      # 512 can be modified\n",
    "        self.avg_pool=nn.AvgPool2d(8)                                        # 4 can be modified\n",
    "        self.fc=nn.Linear(320,10) \n",
    "        \n",
    "    def make_layer(self,block,out_channels,blocks, stride):\n",
    "        layers=[]\n",
    "        layers.append(block(self.in_channels,out_channels,stride))\n",
    "        self.in_channels=out_channels\n",
    "        for i in range(1,blocks):\n",
    "            layers.append(block(out_channels,out_channels,stride=1))\n",
    "        return nn.Sequential(*layers)\n",
    "    \n",
    "    def forward(self,x):\n",
    "        out=self.conv(x)\n",
    "        out=self.bn(out)\n",
    "        out=self.relu(out)\n",
    "        out=self.layer1(out)\n",
    "        out=self.layer2(out)\n",
    "        out=self.layer3(out)\n",
    "        #out=self.layer4(out)\n",
    "        out=self.avg_pool(out)\n",
    "        out=out.view(out.size(0),-1)\n",
    "        out=self.fc(out)\n",
    "        return out"
   ]
  },
  {
   "cell_type": "code",
   "execution_count": 17,
   "id": "792a9fbd-05dc-4a45-998d-c195827f1266",
   "metadata": {},
   "outputs": [
    {
     "name": "stdout",
     "output_type": "stream",
     "text": [
      "----------------------------------------------------------------\n",
      "        Layer (type)               Output Shape         Param #\n",
      "================================================================\n",
      "            Conv2d-1           [-1, 80, 32, 32]           2,160\n",
      "       BatchNorm2d-2           [-1, 80, 32, 32]             160\n",
      "              ReLU-3           [-1, 80, 32, 32]               0\n",
      "            Conv2d-4           [-1, 80, 32, 32]          57,600\n",
      "       BatchNorm2d-5           [-1, 80, 32, 32]             160\n",
      "              ReLU-6           [-1, 80, 32, 32]               0\n",
      "            Conv2d-7           [-1, 80, 32, 32]          57,600\n",
      "       BatchNorm2d-8           [-1, 80, 32, 32]             160\n",
      "              ReLU-9           [-1, 80, 32, 32]               0\n",
      "    ResidualBlock-10           [-1, 80, 32, 32]               0\n",
      "           Conv2d-11           [-1, 80, 32, 32]          57,600\n",
      "      BatchNorm2d-12           [-1, 80, 32, 32]             160\n",
      "             ReLU-13           [-1, 80, 32, 32]               0\n",
      "           Conv2d-14           [-1, 80, 32, 32]          57,600\n",
      "      BatchNorm2d-15           [-1, 80, 32, 32]             160\n",
      "             ReLU-16           [-1, 80, 32, 32]               0\n",
      "    ResidualBlock-17           [-1, 80, 32, 32]               0\n",
      "           Conv2d-18           [-1, 80, 32, 32]          57,600\n",
      "      BatchNorm2d-19           [-1, 80, 32, 32]             160\n",
      "             ReLU-20           [-1, 80, 32, 32]               0\n",
      "           Conv2d-21           [-1, 80, 32, 32]          57,600\n",
      "      BatchNorm2d-22           [-1, 80, 32, 32]             160\n",
      "             ReLU-23           [-1, 80, 32, 32]               0\n",
      "    ResidualBlock-24           [-1, 80, 32, 32]               0\n",
      "           Conv2d-25          [-1, 160, 16, 16]         115,200\n",
      "      BatchNorm2d-26          [-1, 160, 16, 16]             320\n",
      "             ReLU-27          [-1, 160, 16, 16]               0\n",
      "           Conv2d-28          [-1, 160, 16, 16]         230,400\n",
      "      BatchNorm2d-29          [-1, 160, 16, 16]             320\n",
      "           Conv2d-30          [-1, 160, 16, 16]          12,800\n",
      "      BatchNorm2d-31          [-1, 160, 16, 16]             320\n",
      "             ReLU-32          [-1, 160, 16, 16]               0\n",
      "    ResidualBlock-33          [-1, 160, 16, 16]               0\n",
      "           Conv2d-34          [-1, 160, 16, 16]         230,400\n",
      "      BatchNorm2d-35          [-1, 160, 16, 16]             320\n",
      "             ReLU-36          [-1, 160, 16, 16]               0\n",
      "           Conv2d-37          [-1, 160, 16, 16]         230,400\n",
      "      BatchNorm2d-38          [-1, 160, 16, 16]             320\n",
      "             ReLU-39          [-1, 160, 16, 16]               0\n",
      "    ResidualBlock-40          [-1, 160, 16, 16]               0\n",
      "           Conv2d-41          [-1, 160, 16, 16]         230,400\n",
      "      BatchNorm2d-42          [-1, 160, 16, 16]             320\n",
      "             ReLU-43          [-1, 160, 16, 16]               0\n",
      "           Conv2d-44          [-1, 160, 16, 16]         230,400\n",
      "      BatchNorm2d-45          [-1, 160, 16, 16]             320\n",
      "             ReLU-46          [-1, 160, 16, 16]               0\n",
      "    ResidualBlock-47          [-1, 160, 16, 16]               0\n",
      "           Conv2d-48            [-1, 320, 8, 8]         460,800\n",
      "      BatchNorm2d-49            [-1, 320, 8, 8]             640\n",
      "             ReLU-50            [-1, 320, 8, 8]               0\n",
      "           Conv2d-51            [-1, 320, 8, 8]         921,600\n",
      "      BatchNorm2d-52            [-1, 320, 8, 8]             640\n",
      "           Conv2d-53            [-1, 320, 8, 8]          51,200\n",
      "      BatchNorm2d-54            [-1, 320, 8, 8]             640\n",
      "             ReLU-55            [-1, 320, 8, 8]               0\n",
      "    ResidualBlock-56            [-1, 320, 8, 8]               0\n",
      "           Conv2d-57            [-1, 320, 8, 8]         921,600\n",
      "      BatchNorm2d-58            [-1, 320, 8, 8]             640\n",
      "             ReLU-59            [-1, 320, 8, 8]               0\n",
      "           Conv2d-60            [-1, 320, 8, 8]         921,600\n",
      "      BatchNorm2d-61            [-1, 320, 8, 8]             640\n",
      "             ReLU-62            [-1, 320, 8, 8]               0\n",
      "    ResidualBlock-63            [-1, 320, 8, 8]               0\n",
      "        AvgPool2d-64            [-1, 320, 1, 1]               0\n",
      "           Linear-65                   [-1, 10]           3,210\n",
      "================================================================\n",
      "Total params: 4,914,330\n",
      "Trainable params: 4,914,330\n",
      "Non-trainable params: 0\n",
      "----------------------------------------------------------------\n",
      "Input size (MB): 0.01\n",
      "Forward/backward pass size (MB): 24.69\n",
      "Params size (MB): 18.75\n",
      "Estimated Total Size (MB): 43.45\n",
      "----------------------------------------------------------------\n"
     ]
    }
   ],
   "source": [
    "model=ResNet(ResidualBlock,[3,3,2]).to(device)\n",
    "summary(model,(3,32,32))"
   ]
  },
  {
   "cell_type": "markdown",
   "id": "14e205f2-40d1-42ab-b232-07b152252fc8",
   "metadata": {},
   "source": [
    "3. Optimizer可以调SGD、ADAM等等"
   ]
  },
  {
   "cell_type": "code",
   "execution_count": 11,
   "id": "dce0c4db-a918-4407-8107-a5d3da54876e",
   "metadata": {},
   "outputs": [],
   "source": [
    "# loss function and optimizer\n",
    "#criterion = nn.CrossEntropyLoss()\n",
    "#optimizer = torch.optim.SGD(model.parameters(), lr=learning_rate,momentum=0.9, weight_decay=1e-3)"
   ]
  },
  {
   "cell_type": "code",
   "execution_count": 19,
   "id": "c99328a9-2e82-4552-92a0-589b5d11d71a",
   "metadata": {},
   "outputs": [],
   "source": [
    "#train\n",
    "def train(model):\n",
    "    model.train()\n",
    "    train_loss=0\n",
    "    train_acc=0\n",
    "    for img,label in train_loader:\n",
    "        img=img.to(device)\n",
    "        label=label.to(device)\n",
    "        #forward\n",
    "        output=model(img)\n",
    "        loss=criterion(output,label)\n",
    "        #backward\n",
    "        optimizer.zero_grad()\n",
    "        loss.backward()\n",
    "        optimizer.step()\n",
    "        #calculate loss and acc\n",
    "        train_loss+=loss.item()\n",
    "        _, predicted=output.max(1)\n",
    "        train_acc+=(predicted==label).sum().item()/len(predicted)\n",
    "    return train_loss/len(train_loader),train_acc/len(train_loader)"
   ]
  },
  {
   "cell_type": "code",
   "execution_count": 20,
   "id": "f4e59dbe-85a1-411c-a732-f0b4b347e974",
   "metadata": {},
   "outputs": [],
   "source": [
    "def test(model):\n",
    "    model.eval()\n",
    "    with torch.no_grad():\n",
    "        valid_acc=0\n",
    "        for img,label in test_loader:\n",
    "            img=img.to(device)\n",
    "            label=label.to(device)\n",
    "            output=model(img)\n",
    "            _, predicted=output.max(1)\n",
    "            valid_acc+=(predicted==label).sum().item()/len(output)\n",
    "    return valid_acc/len(test_loader)"
   ]
  },
  {
   "cell_type": "code",
   "execution_count": 21,
   "id": "95c8156b-a63d-42f3-9bc9-485b49dd1119",
   "metadata": {},
   "outputs": [
    {
     "name": "stdout",
     "output_type": "stream",
     "text": [
      "Epoch 0. Train Loss 1.4959. Train Acc 0.4500. Test Acc 0.6117.\n",
      "Epoch 1. Train Loss 0.9907. Train Acc 0.6478. Test Acc 0.6416.\n",
      "Epoch 2. Train Loss 0.7728. Train Acc 0.7311. Test Acc 0.7611.\n",
      "Epoch 3. Train Loss 0.6376. Train Acc 0.7809. Test Acc 0.7362.\n",
      "Epoch 4. Train Loss 0.5669. Train Acc 0.8059. Test Acc 0.7878.\n",
      "Epoch 5. Train Loss 0.5127. Train Acc 0.8259. Test Acc 0.8126.\n",
      "Epoch 6. Train Loss 0.4722. Train Acc 0.8385. Test Acc 0.8295.\n",
      "Epoch 7. Train Loss 0.4402. Train Acc 0.8502. Test Acc 0.8000.\n",
      "Epoch 8. Train Loss 0.4095. Train Acc 0.8617. Test Acc 0.8570.\n",
      "Epoch 9. Train Loss 0.3904. Train Acc 0.8679. Test Acc 0.8556.\n",
      "Epoch 10. Train Loss 0.3714. Train Acc 0.8744. Test Acc 0.8353.\n",
      "Epoch 11. Train Loss 0.3564. Train Acc 0.8791. Test Acc 0.8664.\n",
      "Epoch 12. Train Loss 0.3440. Train Acc 0.8825. Test Acc 0.8435.\n",
      "Epoch 13. Train Loss 0.3296. Train Acc 0.8885. Test Acc 0.8746.\n",
      "Epoch 14. Train Loss 0.3194. Train Acc 0.8928. Test Acc 0.8718.\n",
      "Epoch 15. Train Loss 0.3068. Train Acc 0.8963. Test Acc 0.8783.\n",
      "Epoch 16. Train Loss 0.2970. Train Acc 0.8994. Test Acc 0.8687.\n",
      "Epoch 17. Train Loss 0.2857. Train Acc 0.9041. Test Acc 0.8885.\n",
      "Epoch 18. Train Loss 0.2733. Train Acc 0.9079. Test Acc 0.8862.\n",
      "Epoch 19. Train Loss 0.2590. Train Acc 0.9134. Test Acc 0.8922.\n",
      "Epoch 20. Train Loss 0.2447. Train Acc 0.9176. Test Acc 0.8883.\n",
      "Epoch 21. Train Loss 0.2412. Train Acc 0.9188. Test Acc 0.8940.\n",
      "Epoch 22. Train Loss 0.2259. Train Acc 0.9239. Test Acc 0.8946.\n",
      "Epoch 23. Train Loss 0.2091. Train Acc 0.9299. Test Acc 0.8958.\n",
      "Epoch 24. Train Loss 0.2042. Train Acc 0.9308. Test Acc 0.9083.\n",
      "Epoch 25. Train Loss 0.1902. Train Acc 0.9362. Test Acc 0.8883.\n",
      "Epoch 26. Train Loss 0.1774. Train Acc 0.9416. Test Acc 0.9120.\n",
      "Epoch 27. Train Loss 0.1640. Train Acc 0.9441. Test Acc 0.9126.\n",
      "Epoch 28. Train Loss 0.1554. Train Acc 0.9480. Test Acc 0.9128.\n",
      "Epoch 29. Train Loss 0.1397. Train Acc 0.9549. Test Acc 0.9154.\n",
      "Epoch 30. Train Loss 0.1226. Train Acc 0.9606. Test Acc 0.9206.\n",
      "Epoch 31. Train Loss 0.1125. Train Acc 0.9632. Test Acc 0.9190.\n",
      "Epoch 32. Train Loss 0.0976. Train Acc 0.9697. Test Acc 0.9207.\n",
      "Epoch 33. Train Loss 0.0868. Train Acc 0.9737. Test Acc 0.9286.\n",
      "Epoch 34. Train Loss 0.0723. Train Acc 0.9790. Test Acc 0.9130.\n",
      "Epoch 35. Train Loss 0.0604. Train Acc 0.9832. Test Acc 0.9353.\n",
      "Epoch 36. Train Loss 0.0497. Train Acc 0.9865. Test Acc 0.9370.\n",
      "Epoch 37. Train Loss 0.0390. Train Acc 0.9907. Test Acc 0.9404.\n",
      "Epoch 38. Train Loss 0.0311. Train Acc 0.9932. Test Acc 0.9418.\n",
      "Epoch 39. Train Loss 0.0243. Train Acc 0.9953. Test Acc 0.9443.\n",
      "Epoch 40. Train Loss 0.0201. Train Acc 0.9969. Test Acc 0.9468.\n",
      "Epoch 41. Train Loss 0.0169. Train Acc 0.9976. Test Acc 0.9484.\n",
      "Epoch 42. Train Loss 0.0140. Train Acc 0.9986. Test Acc 0.9493.\n",
      "Epoch 43. Train Loss 0.0127. Train Acc 0.9986. Test Acc 0.9497.\n",
      "Epoch 44. Train Loss 0.0112. Train Acc 0.9990. Test Acc 0.9497.\n",
      "Epoch 45. Train Loss 0.0106. Train Acc 0.9991. Test Acc 0.9495.\n",
      "Epoch 46. Train Loss 0.0100. Train Acc 0.9994. Test Acc 0.9510.\n",
      "Epoch 47. Train Loss 0.0095. Train Acc 0.9994. Test Acc 0.9513.\n",
      "Epoch 48. Train Loss 0.0095. Train Acc 0.9993. Test Acc 0.9511.\n",
      "Epoch 49. Train Loss 0.0094. Train Acc 0.9995. Test Acc 0.9509.\n"
     ]
    }
   ],
   "source": [
    "epochs=50\n",
    "train_loader=torch.utils.data.DataLoader(train_dataset,batch_size=32,shuffle=True)\n",
    "test_loader=torch.utils.data.DataLoader(test_dataset,batch_size=32,shuffle=False)\n",
    "model=ResNet(ResidualBlock,[3,3,2]).to(device)\n",
    "criterion = nn.CrossEntropyLoss()\n",
    "optimizer = torch.optim.SGD(model.parameters(), lr=0.01,momentum=0.9, weight_decay=1e-3)\n",
    "scheduler = torch.optim.lr_scheduler.CosineAnnealingLR(optimizer=optimizer, T_max=50)\n",
    "for i in range(epochs):\n",
    "    train_loss, train_acc=train(model)\n",
    "    test_acc=test(model)\n",
    "    print(\"Epoch %d. Train Loss %.4f. Train Acc %.4f. Test Acc %.4f.\"%(i,train_loss,train_acc,test_acc))\n",
    "    scheduler.step()"
   ]
  },
  {
   "cell_type": "code",
   "execution_count": null,
   "id": "4e26f8ec-6cc9-4b7d-973c-84525f91f9a5",
   "metadata": {},
   "outputs": [],
   "source": []
  }
 ],
 "metadata": {
  "kernelspec": {
   "display_name": "default:Python",
   "language": "python",
   "name": "conda-env-default-py"
  },
  "language_info": {
   "codemirror_mode": {
    "name": "ipython",
    "version": 3
   },
   "file_extension": ".py",
   "mimetype": "text/x-python",
   "name": "python",
   "nbconvert_exporter": "python",
   "pygments_lexer": "ipython3",
   "version": "3.9.13"
  }
 },
 "nbformat": 4,
 "nbformat_minor": 5
}
