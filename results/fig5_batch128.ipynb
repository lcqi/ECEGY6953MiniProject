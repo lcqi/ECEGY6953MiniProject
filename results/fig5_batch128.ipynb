{
 "cells": [
  {
   "cell_type": "code",
   "execution_count": 1,
   "id": "d69b7096-103b-437b-bbca-ab1ff07fa1a4",
   "metadata": {},
   "outputs": [
    {
     "name": "stdout",
     "output_type": "stream",
     "text": [
      "Requirement already satisfied: torch in ./.conda/envs/default/lib/python3.9/site-packages (1.13.0)\n",
      "Requirement already satisfied: nvidia-cuda-nvrtc-cu11==11.7.99 in ./.conda/envs/default/lib/python3.9/site-packages (from torch) (11.7.99)\n",
      "Requirement already satisfied: nvidia-cudnn-cu11==8.5.0.96 in ./.conda/envs/default/lib/python3.9/site-packages (from torch) (8.5.0.96)\n",
      "Requirement already satisfied: nvidia-cublas-cu11==11.10.3.66 in ./.conda/envs/default/lib/python3.9/site-packages (from torch) (11.10.3.66)\n",
      "Requirement already satisfied: nvidia-cuda-runtime-cu11==11.7.99 in ./.conda/envs/default/lib/python3.9/site-packages (from torch) (11.7.99)\n",
      "Requirement already satisfied: typing-extensions in ./.conda/envs/default/lib/python3.9/site-packages (from torch) (4.4.0)\n",
      "Requirement already satisfied: wheel in ./.conda/envs/default/lib/python3.9/site-packages (from nvidia-cublas-cu11==11.10.3.66->torch) (0.38.4)\n",
      "Requirement already satisfied: setuptools in ./.conda/envs/default/lib/python3.9/site-packages (from nvidia-cublas-cu11==11.10.3.66->torch) (65.5.1)\n",
      "Note: you may need to restart the kernel to use updated packages.\n",
      "Requirement already satisfied: torchvision in ./.conda/envs/default/lib/python3.9/site-packages (0.14.0)\n",
      "Requirement already satisfied: requests in ./.conda/envs/default/lib/python3.9/site-packages (from torchvision) (2.28.1)\n",
      "Requirement already satisfied: torch==1.13.0 in ./.conda/envs/default/lib/python3.9/site-packages (from torchvision) (1.13.0)\n",
      "Requirement already satisfied: numpy in ./.conda/envs/default/lib/python3.9/site-packages (from torchvision) (1.23.4)\n",
      "Requirement already satisfied: pillow!=8.3.*,>=5.3.0 in ./.conda/envs/default/lib/python3.9/site-packages (from torchvision) (9.3.0)\n",
      "Requirement already satisfied: typing-extensions in ./.conda/envs/default/lib/python3.9/site-packages (from torchvision) (4.4.0)\n",
      "Requirement already satisfied: nvidia-cuda-runtime-cu11==11.7.99 in ./.conda/envs/default/lib/python3.9/site-packages (from torch==1.13.0->torchvision) (11.7.99)\n",
      "Requirement already satisfied: nvidia-cublas-cu11==11.10.3.66 in ./.conda/envs/default/lib/python3.9/site-packages (from torch==1.13.0->torchvision) (11.10.3.66)\n",
      "Requirement already satisfied: nvidia-cuda-nvrtc-cu11==11.7.99 in ./.conda/envs/default/lib/python3.9/site-packages (from torch==1.13.0->torchvision) (11.7.99)\n",
      "Requirement already satisfied: nvidia-cudnn-cu11==8.5.0.96 in ./.conda/envs/default/lib/python3.9/site-packages (from torch==1.13.0->torchvision) (8.5.0.96)\n",
      "Requirement already satisfied: setuptools in ./.conda/envs/default/lib/python3.9/site-packages (from nvidia-cublas-cu11==11.10.3.66->torch==1.13.0->torchvision) (65.5.1)\n",
      "Requirement already satisfied: wheel in ./.conda/envs/default/lib/python3.9/site-packages (from nvidia-cublas-cu11==11.10.3.66->torch==1.13.0->torchvision) (0.38.4)\n",
      "Requirement already satisfied: idna<4,>=2.5 in ./.conda/envs/default/lib/python3.9/site-packages (from requests->torchvision) (3.4)\n",
      "Requirement already satisfied: urllib3<1.27,>=1.21.1 in ./.conda/envs/default/lib/python3.9/site-packages (from requests->torchvision) (1.26.12)\n",
      "Requirement already satisfied: certifi>=2017.4.17 in ./.conda/envs/default/lib/python3.9/site-packages (from requests->torchvision) (2022.9.24)\n",
      "Requirement already satisfied: charset-normalizer<3,>=2 in ./.conda/envs/default/lib/python3.9/site-packages (from requests->torchvision) (2.1.1)\n",
      "Note: you may need to restart the kernel to use updated packages.\n",
      "Requirement already satisfied: torchsummary in ./.conda/envs/default/lib/python3.9/site-packages (1.5.1)\n",
      "Note: you may need to restart the kernel to use updated packages.\n"
     ]
    }
   ],
   "source": [
    "%pip install torch\n",
    "%pip install torchvision\n",
    "%pip install torchsummary"
   ]
  },
  {
   "cell_type": "code",
   "execution_count": 2,
   "id": "00d19fc1-bdf7-4a02-99ce-5dd7a9f2fcb6",
   "metadata": {},
   "outputs": [],
   "source": [
    "import torch\n",
    "import torch.nn as nn\n",
    "import torchvision\n",
    "import torchvision.transforms as transforms\n",
    "from torchsummary import summary"
   ]
  },
  {
   "cell_type": "code",
   "execution_count": 3,
   "id": "a535b1df-148e-48b0-b4eb-6cbd401369f5",
   "metadata": {},
   "outputs": [],
   "source": [
    "#choose device\n",
    "if torch.cuda.is_available():\n",
    "    device=torch.device('cuda')\n",
    "else:\n",
    "    device=torch.device('cpu')"
   ]
  },
  {
   "cell_type": "code",
   "execution_count": 4,
   "id": "a1c24d75-e653-4c24-8700-fb5833961fce",
   "metadata": {},
   "outputs": [],
   "source": [
    "#define transform\n",
    "train_transform=transforms.Compose(\n",
    "    [transforms.Pad(4),\n",
    "     transforms.RandomCrop(32),\n",
    "     transforms.RandomHorizontalFlip(),\n",
    "     transforms.ToTensor(),\n",
    "     transforms.Normalize(mean=[0.485,0.456,0.406],\n",
    "                          std=[0.229,0.224,0.225])])\n",
    "valid_transform=transforms.Compose(\n",
    "    [\n",
    "     transforms.ToTensor(),\n",
    "     transforms.Normalize(mean=[0.485,0.456,0.406],\n",
    "                          std=[0.229,0.224,0.225])])"
   ]
  },
  {
   "cell_type": "code",
   "execution_count": 5,
   "id": "61d6793f-4842-4a6a-9203-d89ed06e16d1",
   "metadata": {},
   "outputs": [
    {
     "name": "stdout",
     "output_type": "stream",
     "text": [
      "Files already downloaded and verified\n",
      "Files already downloaded and verified\n"
     ]
    }
   ],
   "source": [
    "# download cifar-10 dataset\n",
    "train_dataset=torchvision.datasets.CIFAR10(root='./data/',\n",
    "                                           train=True,\n",
    "                                           transform=train_transform,\n",
    "                                           download=True)\n",
    "test_dataset=torchvision.datasets.CIFAR10(root='./data/',\n",
    "                                           train=False,\n",
    "                                           transform=valid_transform,\n",
    "                                           download=True)"
   ]
  },
  {
   "cell_type": "code",
   "execution_count": 6,
   "id": "60f4759e-974d-4d7d-bdba-55e375bd27ef",
   "metadata": {},
   "outputs": [],
   "source": [
    "# residual block\n",
    "class ResidualBlock(nn.Module):\n",
    "    def __init__(self, in_channels, out_channels, stride=1):\n",
    "        super(ResidualBlock, self).__init__()\n",
    "        self.conv1=nn.Conv2d(in_channels=in_channels,out_channels=out_channels,stride=stride,kernel_size=3,padding=1,bias=False)\n",
    "        self.bn1=nn.BatchNorm2d(out_channels)\n",
    "        self.relu=nn.ReLU(inplace=True)\n",
    "        self.conv2=nn.Conv2d(in_channels=out_channels,out_channels=out_channels,stride=1,kernel_size=3,padding=1,bias=False)\n",
    "        self.bn2=nn.BatchNorm2d(out_channels)\n",
    "        self.downsample=nn.Sequential()\n",
    "        if (stride!=1) or(in_channels!=out_channels):\n",
    "            self.downsample=nn.Sequential(\n",
    "                nn.Conv2d(in_channels=in_channels,out_channels=out_channels,stride=stride,kernel_size=1,bias=False),\n",
    "                nn.BatchNorm2d(out_channels))\n",
    "    def forward(self,x):\n",
    "        out=self.conv1(x)\n",
    "        out=self.bn1(out)\n",
    "        out=self.relu(out)\n",
    "        out=self.conv2(out)\n",
    "        out=self.bn2(out)\n",
    "        out+=self.downsample(x)\n",
    "        out=self.relu(out)\n",
    "        return out\n",
    "        "
   ]
  },
  {
   "cell_type": "code",
   "execution_count": 7,
   "id": "8f3f10cb-5dba-40be-85be-a3016d49f4d6",
   "metadata": {},
   "outputs": [],
   "source": [
    "# 4-layer ResNet\n",
    "class ResNet(nn.Module):\n",
    "    def __init__(self,block,layers,num_classes=10):\n",
    "        super(ResNet, self).__init__()\n",
    "        self.in_channels=64                                                  # 64 can be modified\n",
    "        self.conv=nn.Conv2d(in_channels=3,out_channels=64,stride=1,kernel_size=3,padding=1,bias=False)\n",
    "        self.bn=nn.BatchNorm2d(64)\n",
    "        self.relu=nn.ReLU(inplace=True)\n",
    "        self.layer1=self.make_layer(block, 64,layers[0], stride=1)        # 64 can be modified\n",
    "        self.layer2=self.make_layer(block, 128, layers[1], stride=2)      # 128 can be modified\n",
    "        self.layer3=self.make_layer(block, 256, layers[2], stride=2)      # 256 can be modified\n",
    "        #self.layer4=self.make_layer(block, 512, layers[3], stride=2)      # 512 can be modified\n",
    "        self.avg_pool=nn.AvgPool2d(8)                                        # 4 can be modified\n",
    "        self.fc=nn.Linear(256,10) \n",
    "        \n",
    "    def make_layer(self,block,out_channels,blocks, stride):\n",
    "        layers=[]\n",
    "        layers.append(block(self.in_channels,out_channels,stride))\n",
    "        self.in_channels=out_channels\n",
    "        for i in range(1,blocks):\n",
    "            layers.append(block(out_channels,out_channels,stride=1))\n",
    "        return nn.Sequential(*layers)\n",
    "    \n",
    "    def forward(self,x):\n",
    "        out=self.conv(x)\n",
    "        out=self.bn(out)\n",
    "        out=self.relu(out)\n",
    "        out=self.layer1(out)\n",
    "        out=self.layer2(out)\n",
    "        out=self.layer3(out)\n",
    "        #out=self.layer4(out)\n",
    "        out=self.avg_pool(out)\n",
    "        out=out.view(out.size(0),-1)\n",
    "        out=self.fc(out)\n",
    "        return out"
   ]
  },
  {
   "cell_type": "code",
   "execution_count": 8,
   "id": "a6824375-8fae-44bd-a2cb-472a7ee5bdc0",
   "metadata": {},
   "outputs": [],
   "source": [
    "#train\n",
    "def train(model):\n",
    "    model.train()\n",
    "    train_loss=0\n",
    "    train_acc=0\n",
    "    for img,label in train_loader:\n",
    "        img=img.to(device)\n",
    "        label=label.to(device)\n",
    "        #forward\n",
    "        output=model(img)\n",
    "        loss=criterion(output,label)\n",
    "        #backward\n",
    "        optimizer.zero_grad()\n",
    "        loss.backward()\n",
    "        optimizer.step()\n",
    "        #calculate loss and acc\n",
    "        train_loss+=loss.item()\n",
    "        _, predicted=output.max(1)\n",
    "        train_acc+=(predicted==label).sum().item()/len(predicted)\n",
    "    return train_loss/len(train_loader),train_acc/len(train_loader)"
   ]
  },
  {
   "cell_type": "code",
   "execution_count": 9,
   "id": "fe5aaaf9-f575-422f-a9f3-437fd1f8b16c",
   "metadata": {},
   "outputs": [],
   "source": [
    "def test(model):\n",
    "    model.eval()\n",
    "    with torch.no_grad():\n",
    "        valid_acc=0\n",
    "        for img,label in test_loader:\n",
    "            img=img.to(device)\n",
    "            label=label.to(device)\n",
    "            output=model(img)\n",
    "            _, predicted=output.max(1)\n",
    "            valid_acc+=(predicted==label).sum().item()/len(output)\n",
    "    return valid_acc/len(test_loader)"
   ]
  },
  {
   "cell_type": "code",
   "execution_count": 10,
   "id": "95aee00f-839e-4fe0-88bb-27bddd8514f9",
   "metadata": {},
   "outputs": [
    {
     "name": "stdout",
     "output_type": "stream",
     "text": [
      "Epoch 0. Train Loss 1.4228. Train Acc 0.4765. Test Acc 0.5623.\n",
      "Epoch 1. Train Loss 0.9493. Train Acc 0.6640. Test Acc 0.6750.\n",
      "Epoch 2. Train Loss 0.7523. Train Acc 0.7337. Test Acc 0.7291.\n",
      "Epoch 3. Train Loss 0.6285. Train Acc 0.7807. Test Acc 0.7509.\n",
      "Epoch 4. Train Loss 0.5507. Train Acc 0.8093. Test Acc 0.7903.\n",
      "Epoch 5. Train Loss 0.4959. Train Acc 0.8308. Test Acc 0.7472.\n",
      "Epoch 6. Train Loss 0.4502. Train Acc 0.8444. Test Acc 0.7815.\n",
      "Epoch 7. Train Loss 0.4169. Train Acc 0.8556. Test Acc 0.8183.\n",
      "Epoch 8. Train Loss 0.3871. Train Acc 0.8671. Test Acc 0.7978.\n",
      "Epoch 9. Train Loss 0.3635. Train Acc 0.8744. Test Acc 0.8447.\n",
      "Epoch 10. Train Loss 0.3394. Train Acc 0.8846. Test Acc 0.7932.\n",
      "Epoch 11. Train Loss 0.3215. Train Acc 0.8895. Test Acc 0.8437.\n",
      "Epoch 12. Train Loss 0.3077. Train Acc 0.8945. Test Acc 0.8249.\n",
      "Epoch 13. Train Loss 0.2904. Train Acc 0.8993. Test Acc 0.8454.\n",
      "Epoch 14. Train Loss 0.2721. Train Acc 0.9075. Test Acc 0.8670.\n",
      "Epoch 15. Train Loss 0.2620. Train Acc 0.9104. Test Acc 0.8337.\n",
      "Epoch 16. Train Loss 0.2533. Train Acc 0.9137. Test Acc 0.8558.\n",
      "Epoch 17. Train Loss 0.2406. Train Acc 0.9174. Test Acc 0.8616.\n",
      "Epoch 18. Train Loss 0.2278. Train Acc 0.9228. Test Acc 0.8744.\n",
      "Epoch 19. Train Loss 0.2230. Train Acc 0.9240. Test Acc 0.8505.\n",
      "Epoch 20. Train Loss 0.2162. Train Acc 0.9262. Test Acc 0.8602.\n",
      "Epoch 21. Train Loss 0.2018. Train Acc 0.9320. Test Acc 0.8909.\n",
      "Epoch 22. Train Loss 0.1947. Train Acc 0.9338. Test Acc 0.8403.\n",
      "Epoch 23. Train Loss 0.1877. Train Acc 0.9355. Test Acc 0.8778.\n",
      "Epoch 24. Train Loss 0.1833. Train Acc 0.9376. Test Acc 0.8798.\n",
      "Epoch 25. Train Loss 0.1756. Train Acc 0.9407. Test Acc 0.8782.\n",
      "Epoch 26. Train Loss 0.1719. Train Acc 0.9417. Test Acc 0.8730.\n",
      "Epoch 27. Train Loss 0.1641. Train Acc 0.9442. Test Acc 0.8720.\n",
      "Epoch 28. Train Loss 0.1615. Train Acc 0.9461. Test Acc 0.8881.\n",
      "Epoch 29. Train Loss 0.1575. Train Acc 0.9472. Test Acc 0.8712.\n",
      "Epoch 30. Train Loss 0.1518. Train Acc 0.9493. Test Acc 0.8924.\n",
      "Epoch 31. Train Loss 0.1479. Train Acc 0.9507. Test Acc 0.8926.\n",
      "Epoch 32. Train Loss 0.1454. Train Acc 0.9510. Test Acc 0.8928.\n",
      "Epoch 33. Train Loss 0.1418. Train Acc 0.9521. Test Acc 0.8805.\n",
      "Epoch 34. Train Loss 0.1375. Train Acc 0.9547. Test Acc 0.9010.\n",
      "Epoch 35. Train Loss 0.1320. Train Acc 0.9568. Test Acc 0.8982.\n",
      "Epoch 36. Train Loss 0.1364. Train Acc 0.9544. Test Acc 0.9009.\n",
      "Epoch 37. Train Loss 0.1274. Train Acc 0.9579. Test Acc 0.8917.\n",
      "Epoch 38. Train Loss 0.1328. Train Acc 0.9560. Test Acc 0.8967.\n",
      "Epoch 39. Train Loss 0.1326. Train Acc 0.9566. Test Acc 0.8971.\n",
      "Epoch 40. Train Loss 0.1263. Train Acc 0.9584. Test Acc 0.8993.\n",
      "Epoch 41. Train Loss 0.1295. Train Acc 0.9578. Test Acc 0.8704.\n",
      "Epoch 42. Train Loss 0.1216. Train Acc 0.9600. Test Acc 0.9035.\n",
      "Epoch 43. Train Loss 0.1208. Train Acc 0.9602. Test Acc 0.8783.\n",
      "Epoch 44. Train Loss 0.1212. Train Acc 0.9605. Test Acc 0.8910.\n",
      "Epoch 45. Train Loss 0.1198. Train Acc 0.9610. Test Acc 0.8944.\n",
      "Epoch 46. Train Loss 0.1178. Train Acc 0.9616. Test Acc 0.8812.\n",
      "Epoch 47. Train Loss 0.1142. Train Acc 0.9636. Test Acc 0.8853.\n",
      "Epoch 48. Train Loss 0.1133. Train Acc 0.9626. Test Acc 0.8883.\n",
      "Epoch 49. Train Loss 0.1191. Train Acc 0.9605. Test Acc 0.8875.\n"
     ]
    }
   ],
   "source": [
    "train_loader=torch.utils.data.DataLoader(train_dataset,batch_size=128,shuffle=True)\n",
    "test_loader=torch.utils.data.DataLoader(test_dataset,batch_size=128,shuffle=False)\n",
    "model=ResNet(ResidualBlock,[2,2,2]).to(device)\n",
    "criterion = nn.CrossEntropyLoss()\n",
    "optimizer = torch.optim.SGD(model.parameters(), lr=0.01,momentum=0.9, weight_decay=1e-3)\n",
    "#scheduler = torch.optim.lr_scheduler.CosineAnnealingLR(optimizer=optimizer, T_max=50)\n",
    "for i in range(50):\n",
    "    train_loss, train_acc=train(model)\n",
    "    test_acc=test(model)\n",
    "    print(\"Epoch %d. Train Loss %.4f. Train Acc %.4f. Test Acc %.4f.\"%(i,train_loss,train_acc,test_acc))\n",
    "    #scheduler.step()"
   ]
  }
 ],
 "metadata": {
  "kernelspec": {
   "display_name": "default:Python",
   "language": "python",
   "name": "conda-env-default-py"
  },
  "language_info": {
   "codemirror_mode": {
    "name": "ipython",
    "version": 3
   },
   "file_extension": ".py",
   "mimetype": "text/x-python",
   "name": "python",
   "nbconvert_exporter": "python",
   "pygments_lexer": "ipython3",
   "version": "3.9.13"
  }
 },
 "nbformat": 4,
 "nbformat_minor": 5
}
