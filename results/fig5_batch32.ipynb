{
  "cells": [
    {
      "cell_type": "code",
      "execution_count": 1,
      "id": "d69b7096-103b-437b-bbca-ab1ff07fa1a4",
      "metadata": {
        "colab": {
          "base_uri": "https://localhost:8080/"
        },
        "id": "d69b7096-103b-437b-bbca-ab1ff07fa1a4",
        "outputId": "127b443a-42e5-4d4c-fbd7-10363d999a0e"
      },
      "outputs": [
        {
          "output_type": "stream",
          "name": "stdout",
          "text": [
            "Looking in indexes: https://pypi.org/simple, https://us-python.pkg.dev/colab-wheels/public/simple/\n",
            "Requirement already satisfied: torch in /usr/local/lib/python3.7/dist-packages (1.12.1+cu113)\n",
            "Requirement already satisfied: typing-extensions in /usr/local/lib/python3.7/dist-packages (from torch) (4.1.1)\n",
            "Looking in indexes: https://pypi.org/simple, https://us-python.pkg.dev/colab-wheels/public/simple/\n",
            "Requirement already satisfied: torchvision in /usr/local/lib/python3.7/dist-packages (0.13.1+cu113)\n",
            "Requirement already satisfied: torch==1.12.1 in /usr/local/lib/python3.7/dist-packages (from torchvision) (1.12.1+cu113)\n",
            "Requirement already satisfied: typing-extensions in /usr/local/lib/python3.7/dist-packages (from torchvision) (4.1.1)\n",
            "Requirement already satisfied: numpy in /usr/local/lib/python3.7/dist-packages (from torchvision) (1.21.6)\n",
            "Requirement already satisfied: requests in /usr/local/lib/python3.7/dist-packages (from torchvision) (2.23.0)\n",
            "Requirement already satisfied: pillow!=8.3.*,>=5.3.0 in /usr/local/lib/python3.7/dist-packages (from torchvision) (7.1.2)\n",
            "Requirement already satisfied: certifi>=2017.4.17 in /usr/local/lib/python3.7/dist-packages (from requests->torchvision) (2022.9.24)\n",
            "Requirement already satisfied: chardet<4,>=3.0.2 in /usr/local/lib/python3.7/dist-packages (from requests->torchvision) (3.0.4)\n",
            "Requirement already satisfied: idna<3,>=2.5 in /usr/local/lib/python3.7/dist-packages (from requests->torchvision) (2.10)\n",
            "Requirement already satisfied: urllib3!=1.25.0,!=1.25.1,<1.26,>=1.21.1 in /usr/local/lib/python3.7/dist-packages (from requests->torchvision) (1.24.3)\n",
            "Looking in indexes: https://pypi.org/simple, https://us-python.pkg.dev/colab-wheels/public/simple/\n",
            "Requirement already satisfied: torchsummary in /usr/local/lib/python3.7/dist-packages (1.5.1)\n"
          ]
        }
      ],
      "source": [
        "%pip install torch\n",
        "%pip install torchvision\n",
        "%pip install torchsummary"
      ]
    },
    {
      "cell_type": "code",
      "execution_count": 2,
      "id": "00d19fc1-bdf7-4a02-99ce-5dd7a9f2fcb6",
      "metadata": {
        "id": "00d19fc1-bdf7-4a02-99ce-5dd7a9f2fcb6"
      },
      "outputs": [],
      "source": [
        "import torch\n",
        "import torch.nn as nn\n",
        "import torchvision\n",
        "import torchvision.transforms as transforms\n",
        "from torchsummary import summary"
      ]
    },
    {
      "cell_type": "code",
      "execution_count": 3,
      "id": "a535b1df-148e-48b0-b4eb-6cbd401369f5",
      "metadata": {
        "id": "a535b1df-148e-48b0-b4eb-6cbd401369f5"
      },
      "outputs": [],
      "source": [
        "#choose device\n",
        "if torch.cuda.is_available():\n",
        "    device=torch.device('cuda')\n",
        "else:\n",
        "    device=torch.device('cpu')"
      ]
    },
    {
      "cell_type": "code",
      "execution_count": 4,
      "id": "a1c24d75-e653-4c24-8700-fb5833961fce",
      "metadata": {
        "id": "a1c24d75-e653-4c24-8700-fb5833961fce"
      },
      "outputs": [],
      "source": [
        "#define transform\n",
        "train_transform=transforms.Compose(\n",
        "    [transforms.Pad(4),\n",
        "     transforms.RandomCrop(32),\n",
        "     transforms.RandomHorizontalFlip(),\n",
        "     transforms.ToTensor(),\n",
        "     transforms.Normalize(mean=[0.485,0.456,0.406],\n",
        "                          std=[0.229,0.224,0.225])])\n",
        "valid_transform=transforms.Compose(\n",
        "    [\n",
        "     transforms.ToTensor(),\n",
        "     transforms.Normalize(mean=[0.485,0.456,0.406],\n",
        "                          std=[0.229,0.224,0.225])])"
      ]
    },
    {
      "cell_type": "code",
      "execution_count": 5,
      "id": "61d6793f-4842-4a6a-9203-d89ed06e16d1",
      "metadata": {
        "colab": {
          "base_uri": "https://localhost:8080/",
          "height": 149,
          "referenced_widgets": [
            "b16e603d78a14305af6eef37b780218c",
            "43ef2bd688d6441cb2fd514a786bd543",
            "44e74923c279480697d39d8bbbcc566f",
            "4baa5c38ba824c63b6a3251f0aadeda1",
            "678813d75e5e431c8d49163c0f59db8c",
            "cad74263494b4192a3406fbb3ddfc615",
            "966ee39b3a014e7dad4f0f2706631f3e",
            "56b578f492484bea85cc488807fd8e69",
            "a0248fb7ad344f6eba6ea2a531000da5",
            "4fe6dc9219f3440d8f1b65ce1234b5a6",
            "10e616850ed646bba37bd50e3aaec644"
          ]
        },
        "id": "61d6793f-4842-4a6a-9203-d89ed06e16d1",
        "outputId": "aa00886f-12f8-4832-d5b0-17162597e3e3"
      },
      "outputs": [
        {
          "output_type": "stream",
          "name": "stdout",
          "text": [
            "Downloading https://www.cs.toronto.edu/~kriz/cifar-10-python.tar.gz to ../data/cifar-10-python.tar.gz\n"
          ]
        },
        {
          "output_type": "display_data",
          "data": {
            "text/plain": [
              "  0%|          | 0/170498071 [00:00<?, ?it/s]"
            ],
            "application/vnd.jupyter.widget-view+json": {
              "version_major": 2,
              "version_minor": 0,
              "model_id": "b16e603d78a14305af6eef37b780218c"
            }
          },
          "metadata": {}
        },
        {
          "output_type": "stream",
          "name": "stdout",
          "text": [
            "Extracting ../data/cifar-10-python.tar.gz to ../data/\n",
            "Files already downloaded and verified\n"
          ]
        }
      ],
      "source": [
        "# download cifar-10 dataset\n",
        "train_dataset=torchvision.datasets.CIFAR10(root='../data/',\n",
        "                                           train=True,\n",
        "                                           transform=train_transform,\n",
        "                                           download=True)\n",
        "test_dataset=torchvision.datasets.CIFAR10(root='../data/',\n",
        "                                           train=False,\n",
        "                                           transform=valid_transform,\n",
        "                                           download=True)"
      ]
    },
    {
      "cell_type": "code",
      "execution_count": 6,
      "id": "60f4759e-974d-4d7d-bdba-55e375bd27ef",
      "metadata": {
        "id": "60f4759e-974d-4d7d-bdba-55e375bd27ef"
      },
      "outputs": [],
      "source": [
        "# residual block\n",
        "class ResidualBlock(nn.Module):\n",
        "    def __init__(self, in_channels, out_channels, stride=1):\n",
        "        super(ResidualBlock, self).__init__()\n",
        "        self.conv1=nn.Conv2d(in_channels=in_channels,out_channels=out_channels,stride=stride,kernel_size=3,padding=1,bias=False)\n",
        "        self.bn1=nn.BatchNorm2d(out_channels)\n",
        "        self.relu=nn.ReLU(inplace=True)\n",
        "        self.conv2=nn.Conv2d(in_channels=out_channels,out_channels=out_channels,stride=1,kernel_size=3,padding=1,bias=False)\n",
        "        self.bn2=nn.BatchNorm2d(out_channels)\n",
        "        self.downsample=nn.Sequential()\n",
        "        if (stride!=1) or(in_channels!=out_channels):\n",
        "            self.downsample=nn.Sequential(\n",
        "                nn.Conv2d(in_channels=in_channels,out_channels=out_channels,stride=stride,kernel_size=1,bias=False),\n",
        "                nn.BatchNorm2d(out_channels))\n",
        "    def forward(self,x):\n",
        "        out=self.conv1(x)\n",
        "        out=self.bn1(out)\n",
        "        out=self.relu(out)\n",
        "        out=self.conv2(out)\n",
        "        out=self.bn2(out)\n",
        "        out+=self.downsample(x)\n",
        "        out=self.relu(out)\n",
        "        return out\n",
        "        "
      ]
    },
    {
      "cell_type": "code",
      "execution_count": 7,
      "id": "8f3f10cb-5dba-40be-85be-a3016d49f4d6",
      "metadata": {
        "id": "8f3f10cb-5dba-40be-85be-a3016d49f4d6"
      },
      "outputs": [],
      "source": [
        "# 4-layer ResNet\n",
        "class ResNet(nn.Module):\n",
        "    def __init__(self,block,layers,num_classes=10):\n",
        "        super(ResNet, self).__init__()\n",
        "        self.in_channels=64                                                  # 64 can be modified\n",
        "        self.conv=nn.Conv2d(in_channels=3,out_channels=64,stride=1,kernel_size=3,padding=1,bias=False)\n",
        "        self.bn=nn.BatchNorm2d(64)\n",
        "        self.relu=nn.ReLU(inplace=True)\n",
        "        self.layer1=self.make_layer(block, 64,layers[0], stride=1)        # 64 can be modified\n",
        "        self.layer2=self.make_layer(block, 128, layers[1], stride=2)      # 128 can be modified\n",
        "        self.layer3=self.make_layer(block, 256, layers[2], stride=2)      # 256 can be modified\n",
        "        #self.layer4=self.make_layer(block, 512, layers[3], stride=2)      # 512 can be modified\n",
        "        self.avg_pool=nn.AvgPool2d(8)                                        # 4 can be modified\n",
        "        self.fc=nn.Linear(256,10) \n",
        "        \n",
        "    def make_layer(self,block,out_channels,blocks, stride):\n",
        "        layers=[]\n",
        "        layers.append(block(self.in_channels,out_channels,stride))\n",
        "        self.in_channels=out_channels\n",
        "        for i in range(1,blocks):\n",
        "            layers.append(block(out_channels,out_channels,stride=1))\n",
        "        return nn.Sequential(*layers)\n",
        "    \n",
        "    def forward(self,x):\n",
        "        out=self.conv(x)\n",
        "        out=self.bn(out)\n",
        "        out=self.relu(out)\n",
        "        out=self.layer1(out)\n",
        "        out=self.layer2(out)\n",
        "        out=self.layer3(out)\n",
        "        #out=self.layer4(out)\n",
        "        out=self.avg_pool(out)\n",
        "        out=out.view(out.size(0),-1)\n",
        "        out=self.fc(out)\n",
        "        return out"
      ]
    },
    {
      "cell_type": "code",
      "execution_count": 8,
      "id": "a6824375-8fae-44bd-a2cb-472a7ee5bdc0",
      "metadata": {
        "id": "a6824375-8fae-44bd-a2cb-472a7ee5bdc0"
      },
      "outputs": [],
      "source": [
        "#train\n",
        "def train(model):\n",
        "    model.train()\n",
        "    train_loss=0\n",
        "    train_acc=0\n",
        "    for img,label in train_loader:\n",
        "        img=img.to(device)\n",
        "        label=label.to(device)\n",
        "        #forward\n",
        "        output=model(img)\n",
        "        loss=criterion(output,label)\n",
        "        #backward\n",
        "        optimizer.zero_grad()\n",
        "        loss.backward()\n",
        "        optimizer.step()\n",
        "        #calculate loss and acc\n",
        "        train_loss+=loss.item()\n",
        "        _, predicted=output.max(1)\n",
        "        train_acc+=(predicted==label).sum().item()/len(predicted)\n",
        "    return train_loss/len(train_loader),train_acc/len(train_loader)"
      ]
    },
    {
      "cell_type": "code",
      "execution_count": 9,
      "id": "fe5aaaf9-f575-422f-a9f3-437fd1f8b16c",
      "metadata": {
        "id": "fe5aaaf9-f575-422f-a9f3-437fd1f8b16c"
      },
      "outputs": [],
      "source": [
        "def test(model):\n",
        "    model.eval()\n",
        "    with torch.no_grad():\n",
        "        valid_acc=0\n",
        "        for img,label in test_loader:\n",
        "            img=img.to(device)\n",
        "            label=label.to(device)\n",
        "            output=model(img)\n",
        "            _, predicted=output.max(1)\n",
        "            valid_acc+=(predicted==label).sum().item()/len(output)\n",
        "    return valid_acc/len(test_loader)"
      ]
    },
    {
      "cell_type": "code",
      "execution_count": 10,
      "id": "95aee00f-839e-4fe0-88bb-27bddd8514f9",
      "metadata": {
        "colab": {
          "base_uri": "https://localhost:8080/"
        },
        "id": "95aee00f-839e-4fe0-88bb-27bddd8514f9",
        "outputId": "1df4a32b-cfe3-4307-ddf0-490de814e705"
      },
      "outputs": [
        {
          "output_type": "stream",
          "name": "stdout",
          "text": [
            "Epoch 0. Train Loss 1.4739. Train Acc 0.4591. Test Acc 0.6027.\n",
            "Epoch 1. Train Loss 0.9767. Train Acc 0.6528. Test Acc 0.6630.\n",
            "Epoch 2. Train Loss 0.7675. Train Acc 0.7304. Test Acc 0.6883.\n",
            "Epoch 3. Train Loss 0.6559. Train Acc 0.7737. Test Acc 0.7528.\n",
            "Epoch 4. Train Loss 0.5789. Train Acc 0.8023. Test Acc 0.7983.\n",
            "Epoch 5. Train Loss 0.5248. Train Acc 0.8202. Test Acc 0.7623.\n",
            "Epoch 6. Train Loss 0.4902. Train Acc 0.8345. Test Acc 0.8266.\n",
            "Epoch 7. Train Loss 0.4581. Train Acc 0.8421. Test Acc 0.8338.\n",
            "Epoch 8. Train Loss 0.4368. Train Acc 0.8514. Test Acc 0.8270.\n",
            "Epoch 9. Train Loss 0.4167. Train Acc 0.8592. Test Acc 0.8583.\n",
            "Epoch 10. Train Loss 0.4086. Train Acc 0.8604. Test Acc 0.8439.\n",
            "Epoch 11. Train Loss 0.3923. Train Acc 0.8686. Test Acc 0.8638.\n",
            "Epoch 12. Train Loss 0.3862. Train Acc 0.8691. Test Acc 0.8649.\n",
            "Epoch 13. Train Loss 0.3691. Train Acc 0.8759. Test Acc 0.8420.\n",
            "Epoch 14. Train Loss 0.3664. Train Acc 0.8760. Test Acc 0.8596.\n",
            "Epoch 15. Train Loss 0.3563. Train Acc 0.8793. Test Acc 0.8422.\n",
            "Epoch 16. Train Loss 0.3460. Train Acc 0.8825. Test Acc 0.8586.\n",
            "Epoch 17. Train Loss 0.3454. Train Acc 0.8827. Test Acc 0.8710.\n",
            "Epoch 18. Train Loss 0.3400. Train Acc 0.8860. Test Acc 0.8553.\n",
            "Epoch 19. Train Loss 0.3352. Train Acc 0.8855. Test Acc 0.8687.\n",
            "Epoch 20. Train Loss 0.3294. Train Acc 0.8879. Test Acc 0.8771.\n",
            "Epoch 21. Train Loss 0.3238. Train Acc 0.8907. Test Acc 0.8759.\n",
            "Epoch 22. Train Loss 0.3271. Train Acc 0.8906. Test Acc 0.8784.\n",
            "Epoch 23. Train Loss 0.3180. Train Acc 0.8928. Test Acc 0.8785.\n",
            "Epoch 24. Train Loss 0.3159. Train Acc 0.8939. Test Acc 0.8645.\n",
            "Epoch 25. Train Loss 0.3140. Train Acc 0.8942. Test Acc 0.8653.\n",
            "Epoch 26. Train Loss 0.3088. Train Acc 0.8965. Test Acc 0.8453.\n",
            "Epoch 27. Train Loss 0.3089. Train Acc 0.8950. Test Acc 0.8517.\n",
            "Epoch 28. Train Loss 0.3045. Train Acc 0.8969. Test Acc 0.8911.\n",
            "Epoch 29. Train Loss 0.2980. Train Acc 0.9002. Test Acc 0.8761.\n",
            "Epoch 30. Train Loss 0.3045. Train Acc 0.8979. Test Acc 0.8513.\n",
            "Epoch 31. Train Loss 0.3042. Train Acc 0.8968. Test Acc 0.8849.\n",
            "Epoch 32. Train Loss 0.2973. Train Acc 0.8995. Test Acc 0.8683.\n",
            "Epoch 33. Train Loss 0.2949. Train Acc 0.9006. Test Acc 0.8679.\n",
            "Epoch 34. Train Loss 0.2948. Train Acc 0.9024. Test Acc 0.8888.\n",
            "Epoch 35. Train Loss 0.2945. Train Acc 0.8999. Test Acc 0.8785.\n",
            "Epoch 36. Train Loss 0.2928. Train Acc 0.9014. Test Acc 0.8642.\n",
            "Epoch 37. Train Loss 0.2906. Train Acc 0.9016. Test Acc 0.8475.\n",
            "Epoch 38. Train Loss 0.2872. Train Acc 0.9029. Test Acc 0.8545.\n",
            "Epoch 39. Train Loss 0.2894. Train Acc 0.9022. Test Acc 0.8147.\n",
            "Epoch 40. Train Loss 0.2898. Train Acc 0.9028. Test Acc 0.8560.\n",
            "Epoch 41. Train Loss 0.2868. Train Acc 0.9026. Test Acc 0.8782.\n",
            "Epoch 42. Train Loss 0.2841. Train Acc 0.9033. Test Acc 0.8711.\n",
            "Epoch 43. Train Loss 0.2784. Train Acc 0.9067. Test Acc 0.8848.\n",
            "Epoch 44. Train Loss 0.2835. Train Acc 0.9041. Test Acc 0.8423.\n",
            "Epoch 45. Train Loss 0.2876. Train Acc 0.9013. Test Acc 0.8891.\n",
            "Epoch 46. Train Loss 0.2779. Train Acc 0.9060. Test Acc 0.8860.\n",
            "Epoch 47. Train Loss 0.2793. Train Acc 0.9053. Test Acc 0.8783.\n",
            "Epoch 48. Train Loss 0.2793. Train Acc 0.9051. Test Acc 0.8613.\n",
            "Epoch 49. Train Loss 0.2780. Train Acc 0.9064. Test Acc 0.8761.\n"
          ]
        }
      ],
      "source": [
        "train_loader=torch.utils.data.DataLoader(train_dataset,batch_size=32,shuffle=True)\n",
        "test_loader=torch.utils.data.DataLoader(test_dataset,batch_size=32,shuffle=False)\n",
        "model=ResNet(ResidualBlock,[2,2,2]).to(device)\n",
        "criterion = nn.CrossEntropyLoss()\n",
        "optimizer = torch.optim.SGD(model.parameters(), lr=0.01,momentum=0.9, weight_decay=1e-3)\n",
        "#scheduler = torch.optim.lr_scheduler.CosineAnnealingLR(optimizer=optimizer, T_max=50)\n",
        "for i in range(50):\n",
        "    train_loss, train_acc=train(model)\n",
        "    test_acc=test(model)\n",
        "    print(\"Epoch %d. Train Loss %.4f. Train Acc %.4f. Test Acc %.4f.\"%(i,train_loss,train_acc,test_acc))\n",
        "    #scheduler.step()"
      ]
    }
  ],
  "metadata": {
    "kernelspec": {
      "display_name": "default:Python",
      "language": "python",
      "name": "conda-env-default-py"
    },
    "language_info": {
      "codemirror_mode": {
        "name": "ipython",
        "version": 3
      },
      "file_extension": ".py",
      "mimetype": "text/x-python",
      "name": "python",
      "nbconvert_exporter": "python",
      "pygments_lexer": "ipython3",
      "version": "3.9.13"
    },
    "colab": {
      "provenance": []
    },
    "accelerator": "GPU",
    "gpuClass": "standard",
    "widgets": {
      "application/vnd.jupyter.widget-state+json": {
        "b16e603d78a14305af6eef37b780218c": {
          "model_module": "@jupyter-widgets/controls",
          "model_name": "HBoxModel",
          "model_module_version": "1.5.0",
          "state": {
            "_dom_classes": [],
            "_model_module": "@jupyter-widgets/controls",
            "_model_module_version": "1.5.0",
            "_model_name": "HBoxModel",
            "_view_count": null,
            "_view_module": "@jupyter-widgets/controls",
            "_view_module_version": "1.5.0",
            "_view_name": "HBoxView",
            "box_style": "",
            "children": [
              "IPY_MODEL_43ef2bd688d6441cb2fd514a786bd543",
              "IPY_MODEL_44e74923c279480697d39d8bbbcc566f",
              "IPY_MODEL_4baa5c38ba824c63b6a3251f0aadeda1"
            ],
            "layout": "IPY_MODEL_678813d75e5e431c8d49163c0f59db8c"
          }
        },
        "43ef2bd688d6441cb2fd514a786bd543": {
          "model_module": "@jupyter-widgets/controls",
          "model_name": "HTMLModel",
          "model_module_version": "1.5.0",
          "state": {
            "_dom_classes": [],
            "_model_module": "@jupyter-widgets/controls",
            "_model_module_version": "1.5.0",
            "_model_name": "HTMLModel",
            "_view_count": null,
            "_view_module": "@jupyter-widgets/controls",
            "_view_module_version": "1.5.0",
            "_view_name": "HTMLView",
            "description": "",
            "description_tooltip": null,
            "layout": "IPY_MODEL_cad74263494b4192a3406fbb3ddfc615",
            "placeholder": "​",
            "style": "IPY_MODEL_966ee39b3a014e7dad4f0f2706631f3e",
            "value": "100%"
          }
        },
        "44e74923c279480697d39d8bbbcc566f": {
          "model_module": "@jupyter-widgets/controls",
          "model_name": "FloatProgressModel",
          "model_module_version": "1.5.0",
          "state": {
            "_dom_classes": [],
            "_model_module": "@jupyter-widgets/controls",
            "_model_module_version": "1.5.0",
            "_model_name": "FloatProgressModel",
            "_view_count": null,
            "_view_module": "@jupyter-widgets/controls",
            "_view_module_version": "1.5.0",
            "_view_name": "ProgressView",
            "bar_style": "success",
            "description": "",
            "description_tooltip": null,
            "layout": "IPY_MODEL_56b578f492484bea85cc488807fd8e69",
            "max": 170498071,
            "min": 0,
            "orientation": "horizontal",
            "style": "IPY_MODEL_a0248fb7ad344f6eba6ea2a531000da5",
            "value": 170498071
          }
        },
        "4baa5c38ba824c63b6a3251f0aadeda1": {
          "model_module": "@jupyter-widgets/controls",
          "model_name": "HTMLModel",
          "model_module_version": "1.5.0",
          "state": {
            "_dom_classes": [],
            "_model_module": "@jupyter-widgets/controls",
            "_model_module_version": "1.5.0",
            "_model_name": "HTMLModel",
            "_view_count": null,
            "_view_module": "@jupyter-widgets/controls",
            "_view_module_version": "1.5.0",
            "_view_name": "HTMLView",
            "description": "",
            "description_tooltip": null,
            "layout": "IPY_MODEL_4fe6dc9219f3440d8f1b65ce1234b5a6",
            "placeholder": "​",
            "style": "IPY_MODEL_10e616850ed646bba37bd50e3aaec644",
            "value": " 170498071/170498071 [00:13&lt;00:00, 13576360.37it/s]"
          }
        },
        "678813d75e5e431c8d49163c0f59db8c": {
          "model_module": "@jupyter-widgets/base",
          "model_name": "LayoutModel",
          "model_module_version": "1.2.0",
          "state": {
            "_model_module": "@jupyter-widgets/base",
            "_model_module_version": "1.2.0",
            "_model_name": "LayoutModel",
            "_view_count": null,
            "_view_module": "@jupyter-widgets/base",
            "_view_module_version": "1.2.0",
            "_view_name": "LayoutView",
            "align_content": null,
            "align_items": null,
            "align_self": null,
            "border": null,
            "bottom": null,
            "display": null,
            "flex": null,
            "flex_flow": null,
            "grid_area": null,
            "grid_auto_columns": null,
            "grid_auto_flow": null,
            "grid_auto_rows": null,
            "grid_column": null,
            "grid_gap": null,
            "grid_row": null,
            "grid_template_areas": null,
            "grid_template_columns": null,
            "grid_template_rows": null,
            "height": null,
            "justify_content": null,
            "justify_items": null,
            "left": null,
            "margin": null,
            "max_height": null,
            "max_width": null,
            "min_height": null,
            "min_width": null,
            "object_fit": null,
            "object_position": null,
            "order": null,
            "overflow": null,
            "overflow_x": null,
            "overflow_y": null,
            "padding": null,
            "right": null,
            "top": null,
            "visibility": null,
            "width": null
          }
        },
        "cad74263494b4192a3406fbb3ddfc615": {
          "model_module": "@jupyter-widgets/base",
          "model_name": "LayoutModel",
          "model_module_version": "1.2.0",
          "state": {
            "_model_module": "@jupyter-widgets/base",
            "_model_module_version": "1.2.0",
            "_model_name": "LayoutModel",
            "_view_count": null,
            "_view_module": "@jupyter-widgets/base",
            "_view_module_version": "1.2.0",
            "_view_name": "LayoutView",
            "align_content": null,
            "align_items": null,
            "align_self": null,
            "border": null,
            "bottom": null,
            "display": null,
            "flex": null,
            "flex_flow": null,
            "grid_area": null,
            "grid_auto_columns": null,
            "grid_auto_flow": null,
            "grid_auto_rows": null,
            "grid_column": null,
            "grid_gap": null,
            "grid_row": null,
            "grid_template_areas": null,
            "grid_template_columns": null,
            "grid_template_rows": null,
            "height": null,
            "justify_content": null,
            "justify_items": null,
            "left": null,
            "margin": null,
            "max_height": null,
            "max_width": null,
            "min_height": null,
            "min_width": null,
            "object_fit": null,
            "object_position": null,
            "order": null,
            "overflow": null,
            "overflow_x": null,
            "overflow_y": null,
            "padding": null,
            "right": null,
            "top": null,
            "visibility": null,
            "width": null
          }
        },
        "966ee39b3a014e7dad4f0f2706631f3e": {
          "model_module": "@jupyter-widgets/controls",
          "model_name": "DescriptionStyleModel",
          "model_module_version": "1.5.0",
          "state": {
            "_model_module": "@jupyter-widgets/controls",
            "_model_module_version": "1.5.0",
            "_model_name": "DescriptionStyleModel",
            "_view_count": null,
            "_view_module": "@jupyter-widgets/base",
            "_view_module_version": "1.2.0",
            "_view_name": "StyleView",
            "description_width": ""
          }
        },
        "56b578f492484bea85cc488807fd8e69": {
          "model_module": "@jupyter-widgets/base",
          "model_name": "LayoutModel",
          "model_module_version": "1.2.0",
          "state": {
            "_model_module": "@jupyter-widgets/base",
            "_model_module_version": "1.2.0",
            "_model_name": "LayoutModel",
            "_view_count": null,
            "_view_module": "@jupyter-widgets/base",
            "_view_module_version": "1.2.0",
            "_view_name": "LayoutView",
            "align_content": null,
            "align_items": null,
            "align_self": null,
            "border": null,
            "bottom": null,
            "display": null,
            "flex": null,
            "flex_flow": null,
            "grid_area": null,
            "grid_auto_columns": null,
            "grid_auto_flow": null,
            "grid_auto_rows": null,
            "grid_column": null,
            "grid_gap": null,
            "grid_row": null,
            "grid_template_areas": null,
            "grid_template_columns": null,
            "grid_template_rows": null,
            "height": null,
            "justify_content": null,
            "justify_items": null,
            "left": null,
            "margin": null,
            "max_height": null,
            "max_width": null,
            "min_height": null,
            "min_width": null,
            "object_fit": null,
            "object_position": null,
            "order": null,
            "overflow": null,
            "overflow_x": null,
            "overflow_y": null,
            "padding": null,
            "right": null,
            "top": null,
            "visibility": null,
            "width": null
          }
        },
        "a0248fb7ad344f6eba6ea2a531000da5": {
          "model_module": "@jupyter-widgets/controls",
          "model_name": "ProgressStyleModel",
          "model_module_version": "1.5.0",
          "state": {
            "_model_module": "@jupyter-widgets/controls",
            "_model_module_version": "1.5.0",
            "_model_name": "ProgressStyleModel",
            "_view_count": null,
            "_view_module": "@jupyter-widgets/base",
            "_view_module_version": "1.2.0",
            "_view_name": "StyleView",
            "bar_color": null,
            "description_width": ""
          }
        },
        "4fe6dc9219f3440d8f1b65ce1234b5a6": {
          "model_module": "@jupyter-widgets/base",
          "model_name": "LayoutModel",
          "model_module_version": "1.2.0",
          "state": {
            "_model_module": "@jupyter-widgets/base",
            "_model_module_version": "1.2.0",
            "_model_name": "LayoutModel",
            "_view_count": null,
            "_view_module": "@jupyter-widgets/base",
            "_view_module_version": "1.2.0",
            "_view_name": "LayoutView",
            "align_content": null,
            "align_items": null,
            "align_self": null,
            "border": null,
            "bottom": null,
            "display": null,
            "flex": null,
            "flex_flow": null,
            "grid_area": null,
            "grid_auto_columns": null,
            "grid_auto_flow": null,
            "grid_auto_rows": null,
            "grid_column": null,
            "grid_gap": null,
            "grid_row": null,
            "grid_template_areas": null,
            "grid_template_columns": null,
            "grid_template_rows": null,
            "height": null,
            "justify_content": null,
            "justify_items": null,
            "left": null,
            "margin": null,
            "max_height": null,
            "max_width": null,
            "min_height": null,
            "min_width": null,
            "object_fit": null,
            "object_position": null,
            "order": null,
            "overflow": null,
            "overflow_x": null,
            "overflow_y": null,
            "padding": null,
            "right": null,
            "top": null,
            "visibility": null,
            "width": null
          }
        },
        "10e616850ed646bba37bd50e3aaec644": {
          "model_module": "@jupyter-widgets/controls",
          "model_name": "DescriptionStyleModel",
          "model_module_version": "1.5.0",
          "state": {
            "_model_module": "@jupyter-widgets/controls",
            "_model_module_version": "1.5.0",
            "_model_name": "DescriptionStyleModel",
            "_view_count": null,
            "_view_module": "@jupyter-widgets/base",
            "_view_module_version": "1.2.0",
            "_view_name": "StyleView",
            "description_width": ""
          }
        }
      }
    }
  },
  "nbformat": 4,
  "nbformat_minor": 5
}