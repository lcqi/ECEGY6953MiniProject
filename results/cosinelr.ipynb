{
 "cells": [
  {
   "cell_type": "code",
   "execution_count": 1,
   "id": "68f23bbd-0bfc-44b9-9318-b1c985f28728",
   "metadata": {},
   "outputs": [
    {
     "name": "stdout",
     "output_type": "stream",
     "text": [
      "Requirement already satisfied: torch in /home/studio-lab-user/.conda/envs/default/lib/python3.9/site-packages (1.13.0)\n",
      "Requirement already satisfied: typing-extensions in /home/studio-lab-user/.conda/envs/default/lib/python3.9/site-packages (from torch) (4.4.0)\n",
      "Requirement already satisfied: nvidia-cudnn-cu11==8.5.0.96 in /home/studio-lab-user/.conda/envs/default/lib/python3.9/site-packages (from torch) (8.5.0.96)\n",
      "Requirement already satisfied: nvidia-cublas-cu11==11.10.3.66 in /home/studio-lab-user/.conda/envs/default/lib/python3.9/site-packages (from torch) (11.10.3.66)\n",
      "Requirement already satisfied: nvidia-cuda-nvrtc-cu11==11.7.99 in /home/studio-lab-user/.conda/envs/default/lib/python3.9/site-packages (from torch) (11.7.99)\n",
      "Requirement already satisfied: nvidia-cuda-runtime-cu11==11.7.99 in /home/studio-lab-user/.conda/envs/default/lib/python3.9/site-packages (from torch) (11.7.99)\n",
      "Requirement already satisfied: wheel in /home/studio-lab-user/.conda/envs/default/lib/python3.9/site-packages (from nvidia-cublas-cu11==11.10.3.66->torch) (0.37.1)\n",
      "Requirement already satisfied: setuptools in /home/studio-lab-user/.conda/envs/default/lib/python3.9/site-packages (from nvidia-cublas-cu11==11.10.3.66->torch) (65.5.0)\n",
      "Note: you may need to restart the kernel to use updated packages.\n",
      "Requirement already satisfied: torchvision in /home/studio-lab-user/.conda/envs/default/lib/python3.9/site-packages (0.14.0)\n",
      "Requirement already satisfied: requests in /home/studio-lab-user/.conda/envs/default/lib/python3.9/site-packages (from torchvision) (2.28.1)\n",
      "Requirement already satisfied: torch==1.13.0 in /home/studio-lab-user/.conda/envs/default/lib/python3.9/site-packages (from torchvision) (1.13.0)\n",
      "Requirement already satisfied: pillow!=8.3.*,>=5.3.0 in /home/studio-lab-user/.conda/envs/default/lib/python3.9/site-packages (from torchvision) (9.3.0)\n",
      "Requirement already satisfied: numpy in /home/studio-lab-user/.conda/envs/default/lib/python3.9/site-packages (from torchvision) (1.23.4)\n",
      "Requirement already satisfied: typing-extensions in /home/studio-lab-user/.conda/envs/default/lib/python3.9/site-packages (from torchvision) (4.4.0)\n",
      "Requirement already satisfied: nvidia-cublas-cu11==11.10.3.66 in /home/studio-lab-user/.conda/envs/default/lib/python3.9/site-packages (from torch==1.13.0->torchvision) (11.10.3.66)\n",
      "Requirement already satisfied: nvidia-cuda-nvrtc-cu11==11.7.99 in /home/studio-lab-user/.conda/envs/default/lib/python3.9/site-packages (from torch==1.13.0->torchvision) (11.7.99)\n",
      "Requirement already satisfied: nvidia-cuda-runtime-cu11==11.7.99 in /home/studio-lab-user/.conda/envs/default/lib/python3.9/site-packages (from torch==1.13.0->torchvision) (11.7.99)\n",
      "Requirement already satisfied: nvidia-cudnn-cu11==8.5.0.96 in /home/studio-lab-user/.conda/envs/default/lib/python3.9/site-packages (from torch==1.13.0->torchvision) (8.5.0.96)\n",
      "Requirement already satisfied: setuptools in /home/studio-lab-user/.conda/envs/default/lib/python3.9/site-packages (from nvidia-cublas-cu11==11.10.3.66->torch==1.13.0->torchvision) (65.5.0)\n",
      "Requirement already satisfied: wheel in /home/studio-lab-user/.conda/envs/default/lib/python3.9/site-packages (from nvidia-cublas-cu11==11.10.3.66->torch==1.13.0->torchvision) (0.37.1)\n",
      "Requirement already satisfied: charset-normalizer<3,>=2 in /home/studio-lab-user/.conda/envs/default/lib/python3.9/site-packages (from requests->torchvision) (2.1.1)\n",
      "Requirement already satisfied: urllib3<1.27,>=1.21.1 in /home/studio-lab-user/.conda/envs/default/lib/python3.9/site-packages (from requests->torchvision) (1.26.12)\n",
      "Requirement already satisfied: certifi>=2017.4.17 in /home/studio-lab-user/.conda/envs/default/lib/python3.9/site-packages (from requests->torchvision) (2022.9.24)\n",
      "Requirement already satisfied: idna<4,>=2.5 in /home/studio-lab-user/.conda/envs/default/lib/python3.9/site-packages (from requests->torchvision) (3.4)\n",
      "Note: you may need to restart the kernel to use updated packages.\n",
      "Requirement already satisfied: torchsummary in /home/studio-lab-user/.conda/envs/default/lib/python3.9/site-packages (1.5.1)\n",
      "Note: you may need to restart the kernel to use updated packages.\n"
     ]
    }
   ],
   "source": [
    "%pip install torch\n",
    "%pip install torchvision\n",
    "%pip install torchsummary"
   ]
  },
  {
   "cell_type": "code",
   "execution_count": 2,
   "id": "82f67203-17a8-4ce2-a0c3-186d9d7baf84",
   "metadata": {},
   "outputs": [],
   "source": [
    "import torch\n",
    "import torch.nn as nn\n",
    "import torchvision\n",
    "import torchvision.transforms as transforms\n",
    "from torchsummary import summary"
   ]
  },
  {
   "cell_type": "code",
   "execution_count": 3,
   "id": "c845b04d-0f0a-42b2-8a66-29371aeee9ed",
   "metadata": {},
   "outputs": [],
   "source": [
    "#choose device\n",
    "if torch.cuda.is_available():\n",
    "    device=torch.device('cuda')\n",
    "else:\n",
    "    device=torch.device('cpu')"
   ]
  },
  {
   "cell_type": "markdown",
   "id": "4d7be798-da6d-4aae-98a3-e29555b9042a",
   "metadata": {},
   "source": [
    "1. Epoch, batchsize, learning rate都能调整"
   ]
  },
  {
   "cell_type": "code",
   "execution_count": 4,
   "id": "3e0eb9cb-260e-44e2-8f33-6e1fd46a565f",
   "metadata": {},
   "outputs": [],
   "source": [
    "epochs=50\n",
    "batch_size=64\n",
    "learning_rate=0.01"
   ]
  },
  {
   "cell_type": "markdown",
   "id": "f7d3f139-8381-4455-aeec-db805f9157db",
   "metadata": {},
   "source": [
    "2. transform的方法也能调整"
   ]
  },
  {
   "cell_type": "code",
   "execution_count": 5,
   "id": "11a6ec30-adf5-49ad-813b-b61efd8b5f8e",
   "metadata": {},
   "outputs": [],
   "source": [
    "#define transform\n",
    "train_transform=transforms.Compose(\n",
    "    [transforms.Pad(4),\n",
    "     transforms.RandomCrop(32),\n",
    "     transforms.RandomHorizontalFlip(),\n",
    "     transforms.ToTensor(),\n",
    "     transforms.Normalize(mean=[0.485,0.456,0.406],\n",
    "                          std=[0.229,0.224,0.225])])\n",
    "valid_transform=transforms.Compose(\n",
    "    [\n",
    "     transforms.ToTensor(),\n",
    "     transforms.Normalize(mean=[0.485,0.456,0.406],\n",
    "                          std=[0.229,0.224,0.225])])"
   ]
  },
  {
   "cell_type": "code",
   "execution_count": 6,
   "id": "a73f5b31-d805-4c33-9bb3-c7d42b829630",
   "metadata": {},
   "outputs": [
    {
     "name": "stdout",
     "output_type": "stream",
     "text": [
      "Files already downloaded and verified\n",
      "Files already downloaded and verified\n"
     ]
    }
   ],
   "source": [
    "# download cifar-10 dataset\n",
    "train_dataset=torchvision.datasets.CIFAR10(root='../data/',\n",
    "                                           train=True,\n",
    "                                           transform=train_transform,\n",
    "                                           download=True)\n",
    "test_dataset=torchvision.datasets.CIFAR10(root='../data/',\n",
    "                                           train=False,\n",
    "                                           transform=valid_transform,\n",
    "                                           download=True)"
   ]
  },
  {
   "cell_type": "code",
   "execution_count": 7,
   "id": "457ee22c-b7d0-408a-a867-0477f1fcb22a",
   "metadata": {},
   "outputs": [],
   "source": [
    "# define data loader\n",
    "train_loader=torch.utils.data.DataLoader(train_dataset,batch_size=batch_size,shuffle=True)\n",
    "test_loader=torch.utils.data.DataLoader(test_dataset,batch_size=batch_size,shuffle=False)"
   ]
  },
  {
   "cell_type": "code",
   "execution_count": 8,
   "id": "c1daf0aa-1c0a-4c88-a130-818f9ef34e8e",
   "metadata": {},
   "outputs": [],
   "source": [
    "# residual block\n",
    "class ResidualBlock(nn.Module):\n",
    "    def __init__(self, in_channels, out_channels, stride=1):\n",
    "        super(ResidualBlock, self).__init__()\n",
    "        self.conv1=nn.Conv2d(in_channels=in_channels,out_channels=out_channels,stride=stride,kernel_size=3,padding=1,bias=False)\n",
    "        self.bn1=nn.BatchNorm2d(out_channels)\n",
    "        self.relu=nn.ReLU(inplace=True)\n",
    "        self.conv2=nn.Conv2d(in_channels=out_channels,out_channels=out_channels,stride=1,kernel_size=3,padding=1,bias=False)\n",
    "        self.bn2=nn.BatchNorm2d(out_channels)\n",
    "        self.downsample=nn.Sequential()\n",
    "        if (stride!=1) or(in_channels!=out_channels):\n",
    "            self.downsample=nn.Sequential(\n",
    "                nn.Conv2d(in_channels=in_channels,out_channels=out_channels,stride=stride,kernel_size=1,bias=False),\n",
    "                nn.BatchNorm2d(out_channels))\n",
    "    def forward(self,x):\n",
    "        out=self.conv1(x)\n",
    "        out=self.bn1(out)\n",
    "        out=self.relu(out)\n",
    "        out=self.conv2(out)\n",
    "        out=self.bn2(out)\n",
    "        out+=self.downsample(x)\n",
    "        out=self.relu(out)\n",
    "        return out\n",
    "        "
   ]
  },
  {
   "cell_type": "code",
   "execution_count": 9,
   "id": "b66bf687-fa59-4630-befb-ed3dd7a82171",
   "metadata": {},
   "outputs": [],
   "source": [
    "# 4-layer ResNet\n",
    "class ResNet(nn.Module):\n",
    "    def __init__(self,block,layers,num_classes=10):\n",
    "        super(ResNet, self).__init__()\n",
    "        self.in_channels=64                                                  # 64 can be modified\n",
    "        self.conv=nn.Conv2d(in_channels=3,out_channels=64,stride=1,kernel_size=3,padding=1,bias=False)\n",
    "        self.bn=nn.BatchNorm2d(64)\n",
    "        self.relu=nn.ReLU(inplace=True)\n",
    "        self.layer1=self.make_layer(block, 64,layers[0], stride=1)        # 64 can be modified\n",
    "        self.layer2=self.make_layer(block, 128, layers[1], stride=2)      # 128 can be modified\n",
    "        self.layer3=self.make_layer(block, 256, layers[2], stride=2)      # 256 can be modified\n",
    "        #self.layer4=self.make_layer(block, 512, layers[3], stride=2)      # 512 can be modified\n",
    "        self.avg_pool=nn.AvgPool2d(8)                                        # 4 can be modified\n",
    "        self.fc=nn.Linear(256,10) \n",
    "        \n",
    "    def make_layer(self,block,out_channels,blocks, stride):\n",
    "        layers=[]\n",
    "        layers.append(block(self.in_channels,out_channels,stride))\n",
    "        self.in_channels=out_channels\n",
    "        for i in range(1,blocks):\n",
    "            layers.append(block(out_channels,out_channels,stride=1))\n",
    "        return nn.Sequential(*layers)\n",
    "    \n",
    "    def forward(self,x):\n",
    "        out=self.conv(x)\n",
    "        out=self.bn(out)\n",
    "        out=self.relu(out)\n",
    "        out=self.layer1(out)\n",
    "        out=self.layer2(out)\n",
    "        out=self.layer3(out)\n",
    "        #out=self.layer4(out)\n",
    "        out=self.avg_pool(out)\n",
    "        out=out.view(out.size(0),-1)\n",
    "        out=self.fc(out)\n",
    "        return out"
   ]
  },
  {
   "cell_type": "code",
   "execution_count": 10,
   "id": "792a9fbd-05dc-4a45-998d-c195827f1266",
   "metadata": {},
   "outputs": [
    {
     "name": "stdout",
     "output_type": "stream",
     "text": [
      "----------------------------------------------------------------\n",
      "        Layer (type)               Output Shape         Param #\n",
      "================================================================\n",
      "            Conv2d-1           [-1, 64, 32, 32]           1,728\n",
      "       BatchNorm2d-2           [-1, 64, 32, 32]             128\n",
      "              ReLU-3           [-1, 64, 32, 32]               0\n",
      "            Conv2d-4           [-1, 64, 32, 32]          36,864\n",
      "       BatchNorm2d-5           [-1, 64, 32, 32]             128\n",
      "              ReLU-6           [-1, 64, 32, 32]               0\n",
      "            Conv2d-7           [-1, 64, 32, 32]          36,864\n",
      "       BatchNorm2d-8           [-1, 64, 32, 32]             128\n",
      "              ReLU-9           [-1, 64, 32, 32]               0\n",
      "    ResidualBlock-10           [-1, 64, 32, 32]               0\n",
      "           Conv2d-11           [-1, 64, 32, 32]          36,864\n",
      "      BatchNorm2d-12           [-1, 64, 32, 32]             128\n",
      "             ReLU-13           [-1, 64, 32, 32]               0\n",
      "           Conv2d-14           [-1, 64, 32, 32]          36,864\n",
      "      BatchNorm2d-15           [-1, 64, 32, 32]             128\n",
      "             ReLU-16           [-1, 64, 32, 32]               0\n",
      "    ResidualBlock-17           [-1, 64, 32, 32]               0\n",
      "           Conv2d-18          [-1, 128, 16, 16]          73,728\n",
      "      BatchNorm2d-19          [-1, 128, 16, 16]             256\n",
      "             ReLU-20          [-1, 128, 16, 16]               0\n",
      "           Conv2d-21          [-1, 128, 16, 16]         147,456\n",
      "      BatchNorm2d-22          [-1, 128, 16, 16]             256\n",
      "           Conv2d-23          [-1, 128, 16, 16]           8,192\n",
      "      BatchNorm2d-24          [-1, 128, 16, 16]             256\n",
      "             ReLU-25          [-1, 128, 16, 16]               0\n",
      "    ResidualBlock-26          [-1, 128, 16, 16]               0\n",
      "           Conv2d-27          [-1, 128, 16, 16]         147,456\n",
      "      BatchNorm2d-28          [-1, 128, 16, 16]             256\n",
      "             ReLU-29          [-1, 128, 16, 16]               0\n",
      "           Conv2d-30          [-1, 128, 16, 16]         147,456\n",
      "      BatchNorm2d-31          [-1, 128, 16, 16]             256\n",
      "             ReLU-32          [-1, 128, 16, 16]               0\n",
      "    ResidualBlock-33          [-1, 128, 16, 16]               0\n",
      "           Conv2d-34            [-1, 256, 8, 8]         294,912\n",
      "      BatchNorm2d-35            [-1, 256, 8, 8]             512\n",
      "             ReLU-36            [-1, 256, 8, 8]               0\n",
      "           Conv2d-37            [-1, 256, 8, 8]         589,824\n",
      "      BatchNorm2d-38            [-1, 256, 8, 8]             512\n",
      "           Conv2d-39            [-1, 256, 8, 8]          32,768\n",
      "      BatchNorm2d-40            [-1, 256, 8, 8]             512\n",
      "             ReLU-41            [-1, 256, 8, 8]               0\n",
      "    ResidualBlock-42            [-1, 256, 8, 8]               0\n",
      "           Conv2d-43            [-1, 256, 8, 8]         589,824\n",
      "      BatchNorm2d-44            [-1, 256, 8, 8]             512\n",
      "             ReLU-45            [-1, 256, 8, 8]               0\n",
      "           Conv2d-46            [-1, 256, 8, 8]         589,824\n",
      "      BatchNorm2d-47            [-1, 256, 8, 8]             512\n",
      "             ReLU-48            [-1, 256, 8, 8]               0\n",
      "    ResidualBlock-49            [-1, 256, 8, 8]               0\n",
      "        AvgPool2d-50            [-1, 256, 1, 1]               0\n",
      "           Linear-51                   [-1, 10]           2,570\n",
      "================================================================\n",
      "Total params: 2,777,674\n",
      "Trainable params: 2,777,674\n",
      "Non-trainable params: 0\n",
      "----------------------------------------------------------------\n",
      "Input size (MB): 0.01\n",
      "Forward/backward pass size (MB): 14.50\n",
      "Params size (MB): 10.60\n",
      "Estimated Total Size (MB): 25.11\n",
      "----------------------------------------------------------------\n"
     ]
    }
   ],
   "source": [
    "model=ResNet(ResidualBlock,[2,2,2]).to(device)\n",
    "summary(model,(3,32,32))"
   ]
  },
  {
   "cell_type": "markdown",
   "id": "14e205f2-40d1-42ab-b232-07b152252fc8",
   "metadata": {},
   "source": [
    "3. Optimizer可以调SGD、ADAM等等"
   ]
  },
  {
   "cell_type": "code",
   "execution_count": 11,
   "id": "dce0c4db-a918-4407-8107-a5d3da54876e",
   "metadata": {},
   "outputs": [],
   "source": [
    "# loss function and optimizer\n",
    "#criterion = nn.CrossEntropyLoss()\n",
    "#optimizer = torch.optim.SGD(model.parameters(), lr=learning_rate,momentum=0.9, weight_decay=1e-3)"
   ]
  },
  {
   "cell_type": "code",
   "execution_count": 12,
   "id": "c99328a9-2e82-4552-92a0-589b5d11d71a",
   "metadata": {},
   "outputs": [],
   "source": [
    "#train\n",
    "def train(model):\n",
    "    model.train()\n",
    "    train_loss=0\n",
    "    train_acc=0\n",
    "    for img,label in train_loader:\n",
    "        img=img.to(device)\n",
    "        label=label.to(device)\n",
    "        #forward\n",
    "        output=model(img)\n",
    "        loss=criterion(output,label)\n",
    "        #backward\n",
    "        optimizer.zero_grad()\n",
    "        loss.backward()\n",
    "        optimizer.step()\n",
    "        #calculate loss and acc\n",
    "        train_loss+=loss.item()\n",
    "        _, predicted=output.max(1)\n",
    "        train_acc+=(predicted==label).sum().item()/len(predicted)\n",
    "    return train_loss/len(train_loader),train_acc/len(train_loader)"
   ]
  },
  {
   "cell_type": "code",
   "execution_count": 13,
   "id": "f4e59dbe-85a1-411c-a732-f0b4b347e974",
   "metadata": {},
   "outputs": [],
   "source": [
    "def test(model):\n",
    "    model.eval()\n",
    "    with torch.no_grad():\n",
    "        valid_acc=0\n",
    "        for img,label in test_loader:\n",
    "            img=img.to(device)\n",
    "            label=label.to(device)\n",
    "            output=model(img)\n",
    "            _, predicted=output.max(1)\n",
    "            valid_acc+=(predicted==label).sum().item()/len(output)\n",
    "    return valid_acc/len(test_loader)"
   ]
  },
  {
   "cell_type": "code",
   "execution_count": 14,
   "id": "841d0784-da84-48ee-bf5d-434a7398b19a",
   "metadata": {},
   "outputs": [
    {
     "name": "stdout",
     "output_type": "stream",
     "text": [
      "Epoch 0. Train Loss 1.3720. Train Acc 0.4989. Test Acc 0.6113.\n",
      "Epoch 1. Train Loss 0.9173. Train Acc 0.6749. Test Acc 0.7197.\n",
      "Epoch 2. Train Loss 0.7269. Train Acc 0.7469. Test Acc 0.6883.\n",
      "Epoch 3. Train Loss 0.6137. Train Acc 0.7865. Test Acc 0.7869.\n",
      "Epoch 4. Train Loss 0.5372. Train Acc 0.8135. Test Acc 0.7882.\n",
      "Epoch 5. Train Loss 0.4840. Train Acc 0.8354. Test Acc 0.8182.\n",
      "Epoch 6. Train Loss 0.4395. Train Acc 0.8490. Test Acc 0.7681.\n",
      "Epoch 7. Train Loss 0.4145. Train Acc 0.8572. Test Acc 0.8018.\n",
      "Epoch 8. Train Loss 0.3847. Train Acc 0.8681. Test Acc 0.8211.\n",
      "Epoch 9. Train Loss 0.3611. Train Acc 0.8754. Test Acc 0.8264.\n",
      "Epoch 10. Train Loss 0.3351. Train Acc 0.8850. Test Acc 0.8575.\n",
      "Epoch 11. Train Loss 0.3174. Train Acc 0.8907. Test Acc 0.8457.\n",
      "Epoch 12. Train Loss 0.3027. Train Acc 0.8980. Test Acc 0.8667.\n",
      "Epoch 13. Train Loss 0.2842. Train Acc 0.9027. Test Acc 0.8669.\n",
      "Epoch 14. Train Loss 0.2714. Train Acc 0.9069. Test Acc 0.8646.\n",
      "Epoch 15. Train Loss 0.2543. Train Acc 0.9131. Test Acc 0.8606.\n",
      "Epoch 16. Train Loss 0.2483. Train Acc 0.9147. Test Acc 0.8682.\n",
      "Epoch 17. Train Loss 0.2302. Train Acc 0.9224. Test Acc 0.8594.\n",
      "Epoch 18. Train Loss 0.2138. Train Acc 0.9277. Test Acc 0.8708.\n",
      "Epoch 19. Train Loss 0.2062. Train Acc 0.9296. Test Acc 0.8853.\n",
      "Epoch 20. Train Loss 0.1967. Train Acc 0.9333. Test Acc 0.8928.\n",
      "Epoch 21. Train Loss 0.1854. Train Acc 0.9381. Test Acc 0.8953.\n",
      "Epoch 22. Train Loss 0.1764. Train Acc 0.9406. Test Acc 0.9054.\n",
      "Epoch 23. Train Loss 0.1647. Train Acc 0.9457. Test Acc 0.8941.\n",
      "Epoch 24. Train Loss 0.1519. Train Acc 0.9502. Test Acc 0.8973.\n",
      "Epoch 25. Train Loss 0.1422. Train Acc 0.9529. Test Acc 0.9067.\n",
      "Epoch 26. Train Loss 0.1289. Train Acc 0.9585. Test Acc 0.8947.\n",
      "Epoch 27. Train Loss 0.1171. Train Acc 0.9622. Test Acc 0.9013.\n",
      "Epoch 28. Train Loss 0.1045. Train Acc 0.9665. Test Acc 0.9062.\n",
      "Epoch 29. Train Loss 0.0945. Train Acc 0.9707. Test Acc 0.9150.\n",
      "Epoch 30. Train Loss 0.0820. Train Acc 0.9754. Test Acc 0.9197.\n",
      "Epoch 31. Train Loss 0.0741. Train Acc 0.9775. Test Acc 0.9234.\n",
      "Epoch 32. Train Loss 0.0633. Train Acc 0.9825. Test Acc 0.9253.\n",
      "Epoch 33. Train Loss 0.0536. Train Acc 0.9857. Test Acc 0.9270.\n",
      "Epoch 34. Train Loss 0.0441. Train Acc 0.9885. Test Acc 0.9204.\n",
      "Epoch 35. Train Loss 0.0383. Train Acc 0.9908. Test Acc 0.9293.\n",
      "Epoch 36. Train Loss 0.0311. Train Acc 0.9934. Test Acc 0.9333.\n",
      "Epoch 37. Train Loss 0.0272. Train Acc 0.9946. Test Acc 0.9361.\n",
      "Epoch 38. Train Loss 0.0213. Train Acc 0.9967. Test Acc 0.9397.\n",
      "Epoch 39. Train Loss 0.0187. Train Acc 0.9971. Test Acc 0.9371.\n",
      "Epoch 40. Train Loss 0.0166. Train Acc 0.9980. Test Acc 0.9366.\n",
      "Epoch 41. Train Loss 0.0141. Train Acc 0.9986. Test Acc 0.9391.\n",
      "Epoch 42. Train Loss 0.0139. Train Acc 0.9986. Test Acc 0.9389.\n",
      "Epoch 43. Train Loss 0.0128. Train Acc 0.9991. Test Acc 0.9383.\n",
      "Epoch 44. Train Loss 0.0124. Train Acc 0.9990. Test Acc 0.9368.\n",
      "Epoch 45. Train Loss 0.0115. Train Acc 0.9991. Test Acc 0.9389.\n",
      "Epoch 46. Train Loss 0.0114. Train Acc 0.9992. Test Acc 0.9396.\n",
      "Epoch 47. Train Loss 0.0110. Train Acc 0.9992. Test Acc 0.9398.\n",
      "Epoch 48. Train Loss 0.0106. Train Acc 0.9994. Test Acc 0.9399.\n",
      "Epoch 49. Train Loss 0.0110. Train Acc 0.9993. Test Acc 0.9387.\n"
     ]
    }
   ],
   "source": [
    "criterion = nn.CrossEntropyLoss()\n",
    "optimizer = torch.optim.SGD(model.parameters(), lr=learning_rate,momentum=0.9, weight_decay=1e-3)\n",
    "scheduler = torch.optim.lr_scheduler.CosineAnnealingLR(optimizer=optimizer, T_max=50)\n",
    "for i in range(epochs):\n",
    "    train_loss, train_acc=train(model)\n",
    "    test_acc=test(model)\n",
    "    print(\"Epoch %d. Train Loss %.4f. Train Acc %.4f. Test Acc %.4f.\"%(i,train_loss,train_acc,test_acc))\n",
    "    scheduler.step()"
   ]
  },
  {
   "cell_type": "code",
   "execution_count": null,
   "id": "4e26f8ec-6cc9-4b7d-973c-84525f91f9a5",
   "metadata": {},
   "outputs": [],
   "source": []
  }
 ],
 "metadata": {
  "kernelspec": {
   "display_name": "default:Python",
   "language": "python",
   "name": "conda-env-default-py"
  },
  "language_info": {
   "codemirror_mode": {
    "name": "ipython",
    "version": 3
   },
   "file_extension": ".py",
   "mimetype": "text/x-python",
   "name": "python",
   "nbconvert_exporter": "python",
   "pygments_lexer": "ipython3",
   "version": "3.9.13"
  }
 },
 "nbformat": 4,
 "nbformat_minor": 5
}
